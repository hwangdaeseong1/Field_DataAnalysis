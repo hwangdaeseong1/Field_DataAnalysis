{
 "cells": [
  {
   "cell_type": "markdown",
   "metadata": {},
   "source": [
    "# Chapter 8. 텍스트 마이닝"
   ]
  },
  {
   "cell_type": "markdown",
   "metadata": {},
   "source": [
    "> [분석스토리]  \n",
    "김 대표는 인터넷 상점을 통해 처음으로 키운 닭 300마리를 판매했습니다. 경쟁사 대비 품질 경쟁력이 떨어진다고 생각해 가격을 낮췄더니 1주일 만에 300마리가 모두 판매되었습니다. 놀라운 일이었고, 당장 부자가 될 것만 같은 생각에 기쁨을 감출 수가 없었습니다. 그리고 고객들의 상품 리뷰가 하나씩 달리기 시작했습니다. 리뷰를 읽던 김 대표는 기쁨과 좌절을 동시에 느끼며 고객의 마음을 읽어 부족한 점을 개선해야겠다고 생각했습니다. 과연 고객들은 김 대표의 닭을 어떻게 생각하고 있을까요?"
   ]
  },
  {
   "cell_type": "markdown",
   "metadata": {},
   "source": [
    "## 1. 고객 리뷰에서 어떻게 핵심을 파악할 수 있을까? (워드 클라우드)"
   ]
  },
  {
   "cell_type": "markdown",
   "metadata": {},
   "source": [
    "### 1-1. 워드 클라우드란?"
   ]
  },
  {
   "cell_type": "markdown",
   "metadata": {},
   "source": [
    "> 워드 클라우드(Word Cloud)는 말 그대로 단어를 구름처럼 표현하는 방법입니다. 텍스트 마이닝 결과를 표현하는 가장 대표적인 방법 중 하나로 많은 키워드 중에서 가장 많이 도출된 단어를 크기와 색상으로 강조해 시각화시킨 것입니다.\n",
    "<div>\n",
    "<img src=\"https://upload.wikimedia.org/wikipedia/commons/thumb/a/a7/Web_2.0_Map.svg/330px-Web_2.0_Map.svg.png\" width=\"500\"/>\n",
    "    <center>워드클라우드(출처 : wikipedia)</center>\n",
    "</div>"
   ]
  },
  {
   "cell_type": "markdown",
   "metadata": {},
   "source": [
    "### 1-2. JDK 설치하기"
   ]
  },
  {
   "cell_type": "code",
   "execution_count": 7,
   "metadata": {},
   "outputs": [],
   "source": [
    "# 우선 jdk 설치가 필요하며 최신버전 설치\n",
    "# https://www.oracle.com/java/technologies/downloads/"
   ]
  },
  {
   "cell_type": "markdown",
   "metadata": {},
   "source": [
    "### 1-3. 패키지 설치하기"
   ]
  },
  {
   "cell_type": "code",
   "execution_count": 1,
   "metadata": {},
   "outputs": [
    {
     "name": "stdout",
     "output_type": "stream",
     "text": [
      "Processing c:\\jpype1-1.1.2-cp38-cp38-win_amd64.whl\n",
      "Installing collected packages: JPype1\n",
      "  Attempting uninstall: JPype1\n",
      "    Found existing installation: JPype1 1.3.0\n",
      "    Uninstalling JPype1-1.3.0:\n",
      "      Successfully uninstalled JPype1-1.3.0\n",
      "Successfully installed JPype1-1.1.2\n"
     ]
    }
   ],
   "source": [
    "# https://www.lfd.uci.edu/~gohlke/pythonlibs/#jpype 여기서 cp38(파이썬 3.8.X) 버전에 맞는 JPype 1.1.2를 c:\\에 다운받아 설치\n",
    "!pip install C:\\JPype1-1.1.2-cp38-cp38-win_amd64.whl"
   ]
  },
  {
   "cell_type": "code",
   "execution_count": 2,
   "metadata": {},
   "outputs": [
    {
     "name": "stdout",
     "output_type": "stream",
     "text": [
      "Requirement already satisfied: tweepy==3.10.0 in c:\\programdata\\anaconda3\\lib\\site-packages (3.10.0)\n",
      "Requirement already satisfied: requests[socks]>=2.11.1 in c:\\programdata\\anaconda3\\lib\\site-packages (from tweepy==3.10.0) (2.24.0)\n",
      "Requirement already satisfied: six>=1.10.0 in c:\\programdata\\anaconda3\\lib\\site-packages (from tweepy==3.10.0) (1.15.0)\n",
      "Requirement already satisfied: requests-oauthlib>=0.7.0 in c:\\programdata\\anaconda3\\lib\\site-packages (from tweepy==3.10.0) (1.3.1)\n",
      "Requirement already satisfied: chardet<4,>=3.0.2 in c:\\programdata\\anaconda3\\lib\\site-packages (from requests[socks]>=2.11.1->tweepy==3.10.0) (3.0.4)\n",
      "Requirement already satisfied: idna<3,>=2.5 in c:\\programdata\\anaconda3\\lib\\site-packages (from requests[socks]>=2.11.1->tweepy==3.10.0) (2.10)\n",
      "Requirement already satisfied: certifi>=2017.4.17 in c:\\programdata\\anaconda3\\lib\\site-packages (from requests[socks]>=2.11.1->tweepy==3.10.0) (2020.6.20)\n",
      "Requirement already satisfied: urllib3!=1.25.0,!=1.25.1,<1.26,>=1.21.1 in c:\\programdata\\anaconda3\\lib\\site-packages (from requests[socks]>=2.11.1->tweepy==3.10.0) (1.25.11)\n",
      "Requirement already satisfied: PySocks!=1.5.7,>=1.5.6; extra == \"socks\" in c:\\programdata\\anaconda3\\lib\\site-packages (from requests[socks]>=2.11.1->tweepy==3.10.0) (1.7.1)\n",
      "Requirement already satisfied: oauthlib>=3.0.0 in c:\\programdata\\anaconda3\\lib\\site-packages (from requests-oauthlib>=0.7.0->tweepy==3.10.0) (3.2.0)\n"
     ]
    }
   ],
   "source": [
    "# tweepy 오류로 인해 특정버전 설치\n",
    "!pip install tweepy==3.10.0"
   ]
  },
  {
   "cell_type": "code",
   "execution_count": 90,
   "metadata": {},
   "outputs": [
    {
     "name": "stdout",
     "output_type": "stream",
     "text": [
      "Requirement already satisfied: wordcloud in c:\\programdata\\anaconda3\\lib\\site-packages (1.8.0)\n",
      "Requirement already satisfied: numpy>=1.6.1 in c:\\programdata\\anaconda3\\lib\\site-packages (from wordcloud) (1.22.2)\n",
      "Requirement already satisfied: matplotlib in c:\\programdata\\anaconda3\\lib\\site-packages (from wordcloud) (3.3.2)\n",
      "Requirement already satisfied: pillow in c:\\programdata\\anaconda3\\lib\\site-packages (from wordcloud) (8.0.1)\n",
      "Requirement already satisfied: cycler>=0.10 in c:\\programdata\\anaconda3\\lib\\site-packages (from matplotlib->wordcloud) (0.10.0)\n",
      "Requirement already satisfied: kiwisolver>=1.0.1 in c:\\programdata\\anaconda3\\lib\\site-packages (from matplotlib->wordcloud) (1.3.0)\n",
      "Requirement already satisfied: certifi>=2020.06.20 in c:\\programdata\\anaconda3\\lib\\site-packages (from matplotlib->wordcloud) (2020.6.20)\n",
      "Requirement already satisfied: python-dateutil>=2.1 in c:\\programdata\\anaconda3\\lib\\site-packages (from matplotlib->wordcloud) (2.8.1)\n",
      "Requirement already satisfied: pyparsing!=2.0.4,!=2.1.2,!=2.1.6,>=2.0.3 in c:\\programdata\\anaconda3\\lib\\site-packages (from matplotlib->wordcloud) (2.4.7)\n",
      "Requirement already satisfied: six in c:\\programdata\\anaconda3\\lib\\site-packages (from cycler>=0.10->matplotlib->wordcloud) (1.15.0)\n",
      "Requirement already satisfied: konlpy in c:\\programdata\\anaconda3\\lib\\site-packages (0.6.0)\n",
      "Requirement already satisfied: lxml>=4.1.0 in c:\\programdata\\anaconda3\\lib\\site-packages (from konlpy) (4.6.1)\n",
      "Requirement already satisfied: JPype1>=0.7.0 in c:\\programdata\\anaconda3\\lib\\site-packages (from konlpy) (1.3.0)\n",
      "Requirement already satisfied: numpy>=1.6 in c:\\programdata\\anaconda3\\lib\\site-packages (from konlpy) (1.22.2)\n",
      "Collecting counter\n",
      "  Using cached Counter-1.0.0.tar.gz (5.2 kB)\n"
     ]
    },
    {
     "name": "stderr",
     "output_type": "stream",
     "text": [
      "    ERROR: Command errored out with exit status 1:\n",
      "     command: 'C:\\ProgramData\\Anaconda3\\python.exe' -c 'import sys, setuptools, tokenize; sys.argv[0] = '\"'\"'C:\\\\Users\\\\nosense\\\\AppData\\\\Local\\\\Temp\\\\pip-install-smleoxg5\\\\counter\\\\setup.py'\"'\"'; __file__='\"'\"'C:\\\\Users\\\\nosense\\\\AppData\\\\Local\\\\Temp\\\\pip-install-smleoxg5\\\\counter\\\\setup.py'\"'\"';f=getattr(tokenize, '\"'\"'open'\"'\"', open)(__file__);code=f.read().replace('\"'\"'\\r\\n'\"'\"', '\"'\"'\\n'\"'\"');f.close();exec(compile(code, __file__, '\"'\"'exec'\"'\"'))' egg_info --egg-base 'C:\\Users\\nosense\\AppData\\Local\\Temp\\pip-pip-egg-info-yhq3iauc'\n",
      "         cwd: C:\\Users\\nosense\\AppData\\Local\\Temp\\pip-install-smleoxg5\\counter\\\n",
      "    Complete output (7 lines):\n",
      "    Traceback (most recent call last):\n",
      "      File \"<string>\", line 1, in <module>\n",
      "      File \"C:\\Users\\nosense\\AppData\\Local\\Temp\\pip-install-smleoxg5\\counter\\setup.py\", line 32, in <module>\n",
      "        long_description=getLongDescription(),\n",
      "      File \"C:\\Users\\nosense\\AppData\\Local\\Temp\\pip-install-smleoxg5\\counter\\setup.py\", line 13, in getLongDescription\n",
      "        for line in file:\n",
      "    UnicodeDecodeError: 'cp949' codec can't decode byte 0xe2 in position 2095: illegal multibyte sequence\n",
      "    ----------------------------------------\n",
      "ERROR: Command errored out with exit status 1: python setup.py egg_info Check the logs for full command output.\n"
     ]
    }
   ],
   "source": [
    "# 패키지 설치\n",
    "!pip install wordcloud\n",
    "!pip install counter\n",
    "!pip install konlpy"
   ]
  },
  {
   "cell_type": "markdown",
   "metadata": {},
   "source": [
    "### 1-4. 텍스트 데이터 가공하기"
   ]
  },
  {
   "cell_type": "code",
   "execution_count": 15,
   "metadata": {},
   "outputs": [],
   "source": [
    "# 워드클라우드 구현을 위한 함수 불러오기\n",
    "from wordcloud import WordCloud\n",
    "from collections import Counter\n",
    "from konlpy.tag import Hannanum"
   ]
  },
  {
   "cell_type": "code",
   "execution_count": 16,
   "metadata": {},
   "outputs": [],
   "source": [
    "# 한글파일이기 때문에 cp949 에러가 나므로 encoding 옵션을 추가\n",
    "txt = open('ch8.txt','rt', encoding='UTF-8').read()"
   ]
  },
  {
   "cell_type": "code",
   "execution_count": 17,
   "metadata": {
    "scrolled": true
   },
   "outputs": [
    {
     "data": {
      "text/plain": [
       "'닭이 너무 맛있어요 최고!! 육질이 살아있음\\n배송도 빠르고 상품도 좋습니다. ^^\\n기가막히게 맛있습니다. 사장님 감사합니다.\\n닭이 너무 작아요! 양이 작은 편인데도 부족하네요. ><\\n완전 만족합니다. 재구매 각이네요.\\n삼계탕에 넣었는데 양이 기대 이하네요...\\n배송이 늦었네요. 보내주신 아이스팩이 터져서 치운다고 고생했네요. 포장에 신경써야 할듯...\\n닭이 엄청 크고 실하네요. 들어갈만한 냄비가 없어서 큰 냄비를 샀네요. 맛도 좋습니다.\\n아이스박스가 터져서 왔네요. 비닐도 벗겨지고... 다시 구매하고 싶지 않네요. 그나마 닭이 상하지 않은게 다행인듯...\\n닭에 기름이 너무 많네요. 기름제거가 너무 힘들었네요. ㅠㅠ\\n살이 너무 퍽퍽해요. 요리를 잘 못한 건지 닭 자체가 그런건지 잘 모르겠네요.\\n너무 신선합니다. 살도 너무 부드러워요. 오랜만에 가족들과 맛있는 삼계탕 해먹었네요. 감사합니다.\\n가격이 저렴함에도 불구하고, 닭이 너무 신선하고 맛있네요. 담에 또 구매할 생각입니다.\\n싼 게 비지떡이라더니 그 말이 딱 맞네요. 저한텐 닭이 너무 작네요. 실망입니다.\\n착한 가격에 뽑기가 잘된 건지 저는 너무 맛있게 잘 먹었습니다. 만족합니다. ^0^\\n씻은 뒤에 에어프라이에 소금만 쳐서 돌려 먹었는데 남편도, 아이도 너무 잘 먹었습니다. 양이 좀 작은 건 아쉬웠네요.\\n만족해요 만족해요 만족해요 만족해요 ^-^\\n생닭인데 피가 제대로 안씻긴 듯 합니다. 씻는데 피가 자꾸 나와서 무서웠네요.\\n배송하면서 아이스박스가 터진건지 보낼 때부터 이랬던 건지... 닭도 상해서 왔네요. 환불 요청합니다.\\n두 마리를 시켰는데 한 마리는 큰 데 나머지 한 마리는 눈에 띄게 작네요. 가격이 싸서 그렇겠죠?\\n좋아요~ 저렴한 가격에 잘 산 것 같네요. :)\\n어머니가 담에는 좀 더 큰 닭으로 사라고 하시네요. 맛은 있는데 양이 작습니다. ㅡㅡ...\\n맛있게 먹었습니다. 배송도 빠른 편이네요.\\n싱싱합니다. 추천 박을게요.\\n백숙용으로는 적합하지 않은 것 같습니다.\\n마트에서 사는 닭보다 훨씬 저렴하고, 싱싱하네요. 양도 저는 적당한 것 같습니다. 번창하세요.\\n밥솥에 넣고, 닭 죽 해먹었습니다. 처음인데 실패 안하고 잘 된 것 같습니다. 맛있어요!\\n쫄깃쫄깃 육질이 끝내 주네요! 재구매 예정입니다.\\n좀 작은 것 같긴한데 솔직히 맛은 있네요. \\n아직 요리는 안해 봤는데 겉모습은 마트에서 파는 닭과 별 차이를 못 느끼겠습니다. 맛있겠죠?\\n'"
      ]
     },
     "execution_count": 17,
     "metadata": {},
     "output_type": "execute_result"
    }
   ],
   "source": [
    "# 텍스트 확인\n",
    "txt"
   ]
  },
  {
   "cell_type": "code",
   "execution_count": 18,
   "metadata": {},
   "outputs": [],
   "source": [
    "# txt 문서에서 명사만 추출하기\n",
    "n = Hannanum().nouns(txt)"
   ]
  },
  {
   "cell_type": "code",
   "execution_count": 21,
   "metadata": {},
   "outputs": [
    {
     "data": {
      "text/plain": [
       "['닭',\n",
       " '최고',\n",
       " '육질',\n",
       " '배송',\n",
       " '상품',\n",
       " '기가막히',\n",
       " '사장님',\n",
       " '감사',\n",
       " '닭',\n",
       " '양',\n",
       " '편',\n",
       " '부족',\n",
       " '완전',\n",
       " '만족',\n",
       " '재구']"
      ]
     },
     "execution_count": 21,
     "metadata": {},
     "output_type": "execute_result"
    }
   ],
   "source": [
    "# 명사 15개만 확인\n",
    "n[0:15]"
   ]
  },
  {
   "cell_type": "code",
   "execution_count": 28,
   "metadata": {},
   "outputs": [
    {
     "ename": "ValueError",
     "evalue": "'재구' is not in list",
     "output_type": "error",
     "traceback": [
      "\u001b[1;31m---------------------------------------------------------------------------\u001b[0m",
      "\u001b[1;31mValueError\u001b[0m                                Traceback (most recent call last)",
      "\u001b[1;32m<ipython-input-28-88c82e94e8b3>\u001b[0m in \u001b[0;36m<module>\u001b[1;34m\u001b[0m\n\u001b[0;32m      1\u001b[0m \u001b[1;31m# 특정값의 인덱스 찾기\u001b[0m\u001b[1;33m\u001b[0m\u001b[1;33m\u001b[0m\u001b[1;33m\u001b[0m\u001b[0m\n\u001b[1;32m----> 2\u001b[1;33m \u001b[0mn\u001b[0m\u001b[1;33m.\u001b[0m\u001b[0mindex\u001b[0m\u001b[1;33m(\u001b[0m\u001b[1;34m'재구'\u001b[0m\u001b[1;33m)\u001b[0m\u001b[1;33m\u001b[0m\u001b[1;33m\u001b[0m\u001b[0m\n\u001b[0m",
      "\u001b[1;31mValueError\u001b[0m: '재구' is not in list"
     ]
    }
   ],
   "source": [
    "# 특정값의 인덱스 찾기\n",
    "n.index('재구')"
   ]
  },
  {
   "cell_type": "code",
   "execution_count": 29,
   "metadata": {},
   "outputs": [],
   "source": [
    "# 인덱스를 이용해 특정값 변경\n",
    "n[14] = '재구매'"
   ]
  },
  {
   "cell_type": "code",
   "execution_count": 30,
   "metadata": {},
   "outputs": [
    {
     "data": {
      "text/plain": [
       "'재구매'"
      ]
     },
     "execution_count": 30,
     "metadata": {},
     "output_type": "execute_result"
    }
   ],
   "source": [
    "# 제대로 변경되었는지 확인\n",
    "n[14]"
   ]
  },
  {
   "cell_type": "code",
   "execution_count": 31,
   "metadata": {},
   "outputs": [],
   "source": [
    "# 글자수가 2개 이상인 단어만 필터링\n",
    "n2 = [item for item in n if len(item) >= 2]"
   ]
  },
  {
   "cell_type": "code",
   "execution_count": 32,
   "metadata": {},
   "outputs": [],
   "source": [
    "# 명사별 빈도 추출\n",
    "cnt = Counter(n2)"
   ]
  },
  {
   "cell_type": "code",
   "execution_count": 37,
   "metadata": {},
   "outputs": [
    {
     "data": {
      "text/plain": [
       "[('만족', 6),\n",
       " ('가격', 4),\n",
       " ('배송', 3),\n",
       " ('마리', 3),\n",
       " ('육질', 2),\n",
       " ('감사', 2),\n",
       " ('재구매', 2),\n",
       " ('삼계탕', 2),\n",
       " ('냄비', 2),\n",
       " ('아이스박스', 2)]"
      ]
     },
     "execution_count": 37,
     "metadata": {},
     "output_type": "execute_result"
    }
   ],
   "source": [
    "# 빈도수가 많은 단어 순서대로 10개만 표시\n",
    "cnt.most_common()[0:10]"
   ]
  },
  {
   "cell_type": "markdown",
   "metadata": {},
   "source": [
    "### 1-5. 워드 클라우드 그리기"
   ]
  },
  {
   "cell_type": "code",
   "execution_count": 38,
   "metadata": {},
   "outputs": [],
   "source": [
    "# 워드클라우드용 폰트 설정(맑은고딕)\n",
    "wcs = WordCloud(font_path = 'C:/Windows/Fonts/malgun.ttf', background_color = 'white')"
   ]
  },
  {
   "cell_type": "code",
   "execution_count": 39,
   "metadata": {},
   "outputs": [],
   "source": [
    "# 단어별 빈도로 워드클라우드 생성\n",
    "cloud = wcs.generate_from_frequencies(cnt)"
   ]
  },
  {
   "cell_type": "code",
   "execution_count": 42,
   "metadata": {},
   "outputs": [
    {
     "data": {
      "text/plain": [
       "<function matplotlib.pyplot.show(close=None, block=None)>"
      ]
     },
     "execution_count": 42,
     "metadata": {},
     "output_type": "execute_result"
    },
    {
     "data": {
      "image/png": "[encoded data removed]",
      "text/plain": [
       "<Figure size 720x576 with 1 Axes>"
      ]
     },
     "metadata": {
      "needs_background": "light"
     },
     "output_type": "display_data"
    }
   ],
   "source": [
    "# 워드클라우드 그리기\n",
    "import matplotlib.pyplot as plt\n",
    "plt.figure(figsize = (10,8))\n",
    "plt.axis('off')\n",
    "plt.imshow(cloud)\n",
    "plt.show"
   ]
  },
  {
   "cell_type": "markdown",
   "metadata": {},
   "source": [
    "> [분석스토리]  \n",
    "김 대표는 첫 판매된 닭의 고객 리뷰 30건을 워드 클라우드를 통해 분석해 봤습니다. 다행히도 많은 분들께서 “만족”한 것 같아 기분이 좋았습니다. 하지만 부정적인 단어도 많이 보였기 때문에 정말로 만족한 고객분들이 많았던 건지 의심이 가기 시작했습니다. 그래서 단어가 아닌 문장 단위로 긍정을 나타내는지, 부정을 나타내는지, 아니면 중립을 나타내는지 감성 분석을 실시해 보기로 했습니다."
   ]
  },
  {
   "cell_type": "markdown",
   "metadata": {},
   "source": [
    "---"
   ]
  },
  {
   "cell_type": "markdown",
   "metadata": {},
   "source": [
    "## 2. 고객들은 정말로 만족했을까? (감성 분석)"
   ]
  },
  {
   "cell_type": "markdown",
   "metadata": {},
   "source": [
    "### 2-1. 감성 분석이란?"
   ]
  },
  {
   "cell_type": "markdown",
   "metadata": {},
   "source": [
    "> 감성 분석(Sentiment Analysis)은 텍스트 속에서 감성, 의견 등과 같은 주관적인 정보를 체계적으로 식별, 추출, 정량화하는 기술입니다. 감성 분석은 주로 리뷰 및 설문조사 응답, SNS 결과 등을 분석하는 데 사용됩니다.\n",
    "분석한 결과는 주로 파이 차트를 이용해 긍정, 부정의 비율이 몇 %인지 표시해 주는 것으로 나타냅니다."
   ]
  },
  {
   "cell_type": "markdown",
   "metadata": {},
   "source": [
    "### 2-2. 감성 사전 준비하기"
   ]
  },
  {
   "cell_type": "code",
   "execution_count": 90,
   "metadata": {},
   "outputs": [],
   "source": [
    "# 이미 만들어진 리뷰 감성 분석 전용 사전 불러옴\n",
    "import pandas as pd\n",
    "sentdic = pd.read_csv('review_dict.txt', sep = '\\t', encoding = 'utf-8', header = None)\n",
    "sentdic.columns = ['word','score']"
   ]
  },
  {
   "cell_type": "code",
   "execution_count": 91,
   "metadata": {
    "scrolled": true
   },
   "outputs": [
    {
     "data": {
      "text/html": [
       "<div>\n",
       "<style scoped>\n",
       "    .dataframe tbody tr th:only-of-type {\n",
       "        vertical-align: middle;\n",
       "    }\n",
       "\n",
       "    .dataframe tbody tr th {\n",
       "        vertical-align: top;\n",
       "    }\n",
       "\n",
       "    .dataframe thead th {\n",
       "        text-align: right;\n",
       "    }\n",
       "</style>\n",
       "<table border=\"1\" class=\"dataframe\">\n",
       "  <thead>\n",
       "    <tr style=\"text-align: right;\">\n",
       "      <th></th>\n",
       "      <th>word</th>\n",
       "      <th>score</th>\n",
       "    </tr>\n",
       "  </thead>\n",
       "  <tbody>\n",
       "    <tr>\n",
       "      <th>0</th>\n",
       "      <td>감사합니다</td>\n",
       "      <td>2</td>\n",
       "    </tr>\n",
       "    <tr>\n",
       "      <th>1</th>\n",
       "      <td>고생했네요</td>\n",
       "      <td>-2</td>\n",
       "    </tr>\n",
       "    <tr>\n",
       "      <th>2</th>\n",
       "      <td>이하네요</td>\n",
       "      <td>-2</td>\n",
       "    </tr>\n",
       "    <tr>\n",
       "      <th>3</th>\n",
       "      <td>끝내주네요</td>\n",
       "      <td>2</td>\n",
       "    </tr>\n",
       "    <tr>\n",
       "      <th>4</th>\n",
       "      <td>기가막히게</td>\n",
       "      <td>1</td>\n",
       "    </tr>\n",
       "    <tr>\n",
       "      <th>5</th>\n",
       "      <td>늦었네요</td>\n",
       "      <td>-2</td>\n",
       "    </tr>\n",
       "    <tr>\n",
       "      <th>6</th>\n",
       "      <td>만족합니다</td>\n",
       "      <td>2</td>\n",
       "    </tr>\n",
       "    <tr>\n",
       "      <th>7</th>\n",
       "      <td>만족해요</td>\n",
       "      <td>2</td>\n",
       "    </tr>\n",
       "    <tr>\n",
       "      <th>8</th>\n",
       "      <td>맛은있네요</td>\n",
       "      <td>1</td>\n",
       "    </tr>\n",
       "    <tr>\n",
       "      <th>9</th>\n",
       "      <td>맛있게</td>\n",
       "      <td>2</td>\n",
       "    </tr>\n",
       "  </tbody>\n",
       "</table>\n",
       "</div>"
      ],
      "text/plain": [
       "    word  score\n",
       "0  감사합니다      2\n",
       "1  고생했네요     -2\n",
       "2   이하네요     -2\n",
       "3  끝내주네요      2\n",
       "4  기가막히게      1\n",
       "5   늦었네요     -2\n",
       "6  만족합니다      2\n",
       "7   만족해요      2\n",
       "8  맛은있네요      1\n",
       "9    맛있게      2"
      ]
     },
     "execution_count": 91,
     "metadata": {},
     "output_type": "execute_result"
    }
   ],
   "source": [
    "# 감성사전 확인\n",
    "sentdic.head(10)"
   ]
  },
  {
   "cell_type": "markdown",
   "metadata": {},
   "source": [
    "### 2-3. 텍스트 데이터 가공하기"
   ]
  },
  {
   "cell_type": "code",
   "execution_count": 94,
   "metadata": {},
   "outputs": [],
   "source": [
    "# 리뷰 한줄씩 리스트로 불러오기\n",
    "txt_list = open('ch8.txt','rt', encoding='UTF-8').readlines()"
   ]
  },
  {
   "cell_type": "code",
   "execution_count": 95,
   "metadata": {
    "scrolled": true
   },
   "outputs": [
    {
     "data": {
      "text/plain": [
       "['닭이 너무 맛있어요 최고!! 육질이 살아있음\\n',\n",
       " '배송도 빠르고 상품도 좋습니다. ^^\\n',\n",
       " '기가막히게 맛있습니다. 사장님 감사합니다.\\n',\n",
       " '닭이 너무 작아요! 양이 작은 편인데도 부족하네요. ><\\n',\n",
       " '완전 만족합니다. 재구매 각이네요.\\n']"
      ]
     },
     "execution_count": 95,
     "metadata": {},
     "output_type": "execute_result"
    }
   ],
   "source": [
    "# 데이터 5문장만 확인하기\n",
    "txt_list[0:5]"
   ]
  },
  {
   "cell_type": "code",
   "execution_count": 112,
   "metadata": {},
   "outputs": [],
   "source": [
    "# 문장 벡터화를 위함 함수 불러오기\n",
    "from sklearn.feature_extraction.text import CountVectorizer\n",
    "vector = CountVectorizer()"
   ]
  },
  {
   "cell_type": "code",
   "execution_count": 113,
   "metadata": {},
   "outputs": [],
   "source": [
    "# 문장을 벡터화(띄어쓰기 기준으로 단어 분할)\n",
    "bow = vector.fit_transform(txt_list)"
   ]
  },
  {
   "cell_type": "code",
   "execution_count": 114,
   "metadata": {},
   "outputs": [],
   "source": [
    "# 단어를 열이름으로 지정하기 위해 저장\n",
    "term = vector.get_feature_names()"
   ]
  },
  {
   "cell_type": "code",
   "execution_count": 115,
   "metadata": {},
   "outputs": [],
   "source": [
    "import pandas as pd\n",
    "# Document Term Matrix 타입으로 데이터프레임 생성\n",
    "dtm = pd.DataFrame.sparse.from_spmatrix(data = bow, columns = term)"
   ]
  },
  {
   "cell_type": "code",
   "execution_count": 116,
   "metadata": {},
   "outputs": [
    {
     "data": {
      "text/plain": [
       "(30, 191)"
      ]
     },
     "execution_count": 116,
     "metadata": {},
     "output_type": "execute_result"
    }
   ],
   "source": [
    "# 형태 확인(30개의 문장, 191개의 단어)\n",
    "dtm.shape"
   ]
  },
  {
   "cell_type": "code",
   "execution_count": 118,
   "metadata": {},
   "outputs": [
    {
     "data": {
      "text/html": [
       "<div>\n",
       "<style scoped>\n",
       "    .dataframe tbody tr th:only-of-type {\n",
       "        vertical-align: middle;\n",
       "    }\n",
       "\n",
       "    .dataframe tbody tr th {\n",
       "        vertical-align: top;\n",
       "    }\n",
       "\n",
       "    .dataframe thead th {\n",
       "        text-align: right;\n",
       "    }\n",
       "</style>\n",
       "<table border=\"1\" class=\"dataframe\">\n",
       "  <thead>\n",
       "    <tr style=\"text-align: right;\">\n",
       "      <th></th>\n",
       "      <th>ㅠㅠ</th>\n",
       "      <th>ㅡㅡ</th>\n",
       "      <th>가격에</th>\n",
       "      <th>가격이</th>\n",
       "      <th>가족들과</th>\n",
       "      <th>각이네요</th>\n",
       "      <th>감사합니다</th>\n",
       "      <th>같긴한데</th>\n",
       "      <th>같네요</th>\n",
       "      <th>같습니다</th>\n",
       "      <th>...</th>\n",
       "      <th>포장에</th>\n",
       "      <th>피가</th>\n",
       "      <th>하시네요</th>\n",
       "      <th>할듯</th>\n",
       "      <th>합니다</th>\n",
       "      <th>해먹었네요</th>\n",
       "      <th>해먹었습니다</th>\n",
       "      <th>환불</th>\n",
       "      <th>훨씬</th>\n",
       "      <th>힘들었네요</th>\n",
       "    </tr>\n",
       "  </thead>\n",
       "  <tbody>\n",
       "    <tr>\n",
       "      <th>0</th>\n",
       "      <td>0</td>\n",
       "      <td>0</td>\n",
       "      <td>0</td>\n",
       "      <td>0</td>\n",
       "      <td>0</td>\n",
       "      <td>0</td>\n",
       "      <td>0</td>\n",
       "      <td>0</td>\n",
       "      <td>0</td>\n",
       "      <td>0</td>\n",
       "      <td>...</td>\n",
       "      <td>0</td>\n",
       "      <td>0</td>\n",
       "      <td>0</td>\n",
       "      <td>0</td>\n",
       "      <td>0</td>\n",
       "      <td>0</td>\n",
       "      <td>0</td>\n",
       "      <td>0</td>\n",
       "      <td>0</td>\n",
       "      <td>0</td>\n",
       "    </tr>\n",
       "    <tr>\n",
       "      <th>1</th>\n",
       "      <td>0</td>\n",
       "      <td>0</td>\n",
       "      <td>0</td>\n",
       "      <td>0</td>\n",
       "      <td>0</td>\n",
       "      <td>0</td>\n",
       "      <td>0</td>\n",
       "      <td>0</td>\n",
       "      <td>0</td>\n",
       "      <td>0</td>\n",
       "      <td>...</td>\n",
       "      <td>0</td>\n",
       "      <td>0</td>\n",
       "      <td>0</td>\n",
       "      <td>0</td>\n",
       "      <td>0</td>\n",
       "      <td>0</td>\n",
       "      <td>0</td>\n",
       "      <td>0</td>\n",
       "      <td>0</td>\n",
       "      <td>0</td>\n",
       "    </tr>\n",
       "    <tr>\n",
       "      <th>2</th>\n",
       "      <td>0</td>\n",
       "      <td>0</td>\n",
       "      <td>0</td>\n",
       "      <td>0</td>\n",
       "      <td>0</td>\n",
       "      <td>0</td>\n",
       "      <td>1</td>\n",
       "      <td>0</td>\n",
       "      <td>0</td>\n",
       "      <td>0</td>\n",
       "      <td>...</td>\n",
       "      <td>0</td>\n",
       "      <td>0</td>\n",
       "      <td>0</td>\n",
       "      <td>0</td>\n",
       "      <td>0</td>\n",
       "      <td>0</td>\n",
       "      <td>0</td>\n",
       "      <td>0</td>\n",
       "      <td>0</td>\n",
       "      <td>0</td>\n",
       "    </tr>\n",
       "    <tr>\n",
       "      <th>3</th>\n",
       "      <td>0</td>\n",
       "      <td>0</td>\n",
       "      <td>0</td>\n",
       "      <td>0</td>\n",
       "      <td>0</td>\n",
       "      <td>0</td>\n",
       "      <td>0</td>\n",
       "      <td>0</td>\n",
       "      <td>0</td>\n",
       "      <td>0</td>\n",
       "      <td>...</td>\n",
       "      <td>0</td>\n",
       "      <td>0</td>\n",
       "      <td>0</td>\n",
       "      <td>0</td>\n",
       "      <td>0</td>\n",
       "      <td>0</td>\n",
       "      <td>0</td>\n",
       "      <td>0</td>\n",
       "      <td>0</td>\n",
       "      <td>0</td>\n",
       "    </tr>\n",
       "    <tr>\n",
       "      <th>4</th>\n",
       "      <td>0</td>\n",
       "      <td>0</td>\n",
       "      <td>0</td>\n",
       "      <td>0</td>\n",
       "      <td>0</td>\n",
       "      <td>1</td>\n",
       "      <td>0</td>\n",
       "      <td>0</td>\n",
       "      <td>0</td>\n",
       "      <td>0</td>\n",
       "      <td>...</td>\n",
       "      <td>0</td>\n",
       "      <td>0</td>\n",
       "      <td>0</td>\n",
       "      <td>0</td>\n",
       "      <td>0</td>\n",
       "      <td>0</td>\n",
       "      <td>0</td>\n",
       "      <td>0</td>\n",
       "      <td>0</td>\n",
       "      <td>0</td>\n",
       "    </tr>\n",
       "  </tbody>\n",
       "</table>\n",
       "<p>5 rows × 191 columns</p>\n",
       "</div>"
      ],
      "text/plain": [
       "   ㅠㅠ  ㅡㅡ  가격에  가격이  가족들과  각이네요  감사합니다  같긴한데  같네요  같습니다  ...  포장에  피가  하시네요  \\\n",
       "0   0   0    0    0     0     0      0     0    0     0  ...    0   0     0   \n",
       "1   0   0    0    0     0     0      0     0    0     0  ...    0   0     0   \n",
       "2   0   0    0    0     0     0      1     0    0     0  ...    0   0     0   \n",
       "3   0   0    0    0     0     0      0     0    0     0  ...    0   0     0   \n",
       "4   0   0    0    0     0     1      0     0    0     0  ...    0   0     0   \n",
       "\n",
       "   할듯  합니다  해먹었네요  해먹었습니다  환불  훨씬  힘들었네요  \n",
       "0   0    0      0       0   0   0      0  \n",
       "1   0    0      0       0   0   0      0  \n",
       "2   0    0      0       0   0   0      0  \n",
       "3   0    0      0       0   0   0      0  \n",
       "4   0    0      0       0   0   0      0  \n",
       "\n",
       "[5 rows x 191 columns]"
      ]
     },
     "execution_count": 118,
     "metadata": {},
     "output_type": "execute_result"
    }
   ],
   "source": [
    "dtm"
   ]
  },
  {
   "cell_type": "markdown",
   "metadata": {},
   "source": [
    "### 2-4. 감성 분석"
   ]
  },
  {
   "cell_type": "code",
   "execution_count": 119,
   "metadata": {},
   "outputs": [],
   "source": [
    "# 한 줄씩 0~190번째 열까지 1이상인 열을 찾으면 해당 열이름을 가져와 감성사전에 있는지 확인 후\n",
    "# 감성사전에 있으면 해당되는 점수를 가져와서 갯수와 곱한 뒤 d에 리스트로 저장, 아니면 0을 저장\n",
    "# 총 30개의 행(문장)을 모두 마치면 각 행별 리스트의 합이 ds에 하나씩 추가되서 저장됨\n",
    "ds = []\n",
    "for i in range(dtm.shape[0]):    \n",
    "    d = []\n",
    "    for j in range(dtm.shape[1]):\n",
    "        if dtm.iloc[i,j]>=1:\n",
    "            if sentdic.loc[sentdic.word == dtm.columns[j],'score'].empty != True:\n",
    "                d.append(sentdic.loc[sentdic.word == dtm.columns[j],'score'].values[0]*dtm.iloc[i,j])\n",
    "            else:\n",
    "                d.append(0)\n",
    "        else:\n",
    "            d.append(0)\n",
    "    s = sum(d)\n",
    "    ds.append(s)"
   ]
  },
  {
   "cell_type": "code",
   "execution_count": 120,
   "metadata": {
    "scrolled": true
   },
   "outputs": [
    {
     "data": {
      "text/plain": [
       "[4, 3, 5, -4, 4]"
      ]
     },
     "execution_count": 120,
     "metadata": {},
     "output_type": "execute_result"
    }
   ],
   "source": [
    "# 각 행(문서)별 합계 5개만 확인\n",
    "ds[0:5]"
   ]
  },
  {
   "cell_type": "code",
   "execution_count": 121,
   "metadata": {},
   "outputs": [],
   "source": [
    "# 리뷰 리스트와 리뷰별 점수합계 결과를 데이터프레임으로 만들기\n",
    "res = pd.DataFrame(list(zip(txt_list, ds)), columns = ['doc','score'])"
   ]
  },
  {
   "cell_type": "code",
   "execution_count": 126,
   "metadata": {
    "scrolled": true
   },
   "outputs": [
    {
     "data": {
      "text/html": [
       "<div>\n",
       "<style scoped>\n",
       "    .dataframe tbody tr th:only-of-type {\n",
       "        vertical-align: middle;\n",
       "    }\n",
       "\n",
       "    .dataframe tbody tr th {\n",
       "        vertical-align: top;\n",
       "    }\n",
       "\n",
       "    .dataframe thead th {\n",
       "        text-align: right;\n",
       "    }\n",
       "</style>\n",
       "<table border=\"1\" class=\"dataframe\">\n",
       "  <thead>\n",
       "    <tr style=\"text-align: right;\">\n",
       "      <th></th>\n",
       "      <th>doc</th>\n",
       "      <th>score</th>\n",
       "      <th>pn</th>\n",
       "    </tr>\n",
       "  </thead>\n",
       "  <tbody>\n",
       "    <tr>\n",
       "      <th>0</th>\n",
       "      <td>닭이 너무 맛있어요 최고!! 육질이 살아있음\\n</td>\n",
       "      <td>4</td>\n",
       "      <td>Positive</td>\n",
       "    </tr>\n",
       "    <tr>\n",
       "      <th>1</th>\n",
       "      <td>배송도 빠르고 상품도 좋습니다. ^^\\n</td>\n",
       "      <td>3</td>\n",
       "      <td>Positive</td>\n",
       "    </tr>\n",
       "    <tr>\n",
       "      <th>2</th>\n",
       "      <td>기가막히게 맛있습니다. 사장님 감사합니다.\\n</td>\n",
       "      <td>5</td>\n",
       "      <td>Positive</td>\n",
       "    </tr>\n",
       "    <tr>\n",
       "      <th>3</th>\n",
       "      <td>닭이 너무 작아요! 양이 작은 편인데도 부족하네요. &gt;&lt;\\n</td>\n",
       "      <td>-4</td>\n",
       "      <td>Negative</td>\n",
       "    </tr>\n",
       "    <tr>\n",
       "      <th>4</th>\n",
       "      <td>완전 만족합니다. 재구매 각이네요.\\n</td>\n",
       "      <td>4</td>\n",
       "      <td>Positive</td>\n",
       "    </tr>\n",
       "    <tr>\n",
       "      <th>5</th>\n",
       "      <td>삼계탕에 넣었는데 양이 기대 이하네요...\\n</td>\n",
       "      <td>-2</td>\n",
       "      <td>Negative</td>\n",
       "    </tr>\n",
       "  </tbody>\n",
       "</table>\n",
       "</div>"
      ],
      "text/plain": [
       "                                 doc  score        pn\n",
       "0         닭이 너무 맛있어요 최고!! 육질이 살아있음\\n      4  Positive\n",
       "1             배송도 빠르고 상품도 좋습니다. ^^\\n      3  Positive\n",
       "2          기가막히게 맛있습니다. 사장님 감사합니다.\\n      5  Positive\n",
       "3  닭이 너무 작아요! 양이 작은 편인데도 부족하네요. ><\\n     -4  Negative\n",
       "4              완전 만족합니다. 재구매 각이네요.\\n      4  Positive\n",
       "5          삼계탕에 넣었는데 양이 기대 이하네요...\\n     -2  Negative"
      ]
     },
     "execution_count": 126,
     "metadata": {},
     "output_type": "execute_result"
    }
   ],
   "source": [
    "# 리뷰별 점수결과 6개만 확인\n",
    "res.head(6)"
   ]
  },
  {
   "cell_type": "code",
   "execution_count": 123,
   "metadata": {},
   "outputs": [],
   "source": [
    "# 리뷰점수가 0보다 크면 긍정, 0이면 중립, 그외면 부정으로 판정하는 리스트 만들기\n",
    "pn = []\n",
    "for row in res['score']:\n",
    "    if row > 0:\n",
    "        pn.append('Positive')\n",
    "    elif row == 0:\n",
    "        pn.append('Neutral')\n",
    "    else:\n",
    "        pn.append('Negative')"
   ]
  },
  {
   "cell_type": "code",
   "execution_count": 124,
   "metadata": {},
   "outputs": [],
   "source": [
    "# 리뷰점수 판정결과 데이터프레임에 추가\n",
    "res['pn'] = pn"
   ]
  },
  {
   "cell_type": "code",
   "execution_count": 127,
   "metadata": {},
   "outputs": [
    {
     "data": {
      "text/html": [
       "<div>\n",
       "<style scoped>\n",
       "    .dataframe tbody tr th:only-of-type {\n",
       "        vertical-align: middle;\n",
       "    }\n",
       "\n",
       "    .dataframe tbody tr th {\n",
       "        vertical-align: top;\n",
       "    }\n",
       "\n",
       "    .dataframe thead th {\n",
       "        text-align: right;\n",
       "    }\n",
       "</style>\n",
       "<table border=\"1\" class=\"dataframe\">\n",
       "  <thead>\n",
       "    <tr style=\"text-align: right;\">\n",
       "      <th></th>\n",
       "      <th>doc</th>\n",
       "      <th>score</th>\n",
       "      <th>pn</th>\n",
       "    </tr>\n",
       "  </thead>\n",
       "  <tbody>\n",
       "    <tr>\n",
       "      <th>0</th>\n",
       "      <td>닭이 너무 맛있어요 최고!! 육질이 살아있음\\n</td>\n",
       "      <td>4</td>\n",
       "      <td>Positive</td>\n",
       "    </tr>\n",
       "    <tr>\n",
       "      <th>1</th>\n",
       "      <td>배송도 빠르고 상품도 좋습니다. ^^\\n</td>\n",
       "      <td>3</td>\n",
       "      <td>Positive</td>\n",
       "    </tr>\n",
       "    <tr>\n",
       "      <th>2</th>\n",
       "      <td>기가막히게 맛있습니다. 사장님 감사합니다.\\n</td>\n",
       "      <td>5</td>\n",
       "      <td>Positive</td>\n",
       "    </tr>\n",
       "    <tr>\n",
       "      <th>3</th>\n",
       "      <td>닭이 너무 작아요! 양이 작은 편인데도 부족하네요. &gt;&lt;\\n</td>\n",
       "      <td>-4</td>\n",
       "      <td>Negative</td>\n",
       "    </tr>\n",
       "    <tr>\n",
       "      <th>4</th>\n",
       "      <td>완전 만족합니다. 재구매 각이네요.\\n</td>\n",
       "      <td>4</td>\n",
       "      <td>Positive</td>\n",
       "    </tr>\n",
       "    <tr>\n",
       "      <th>5</th>\n",
       "      <td>삼계탕에 넣었는데 양이 기대 이하네요...\\n</td>\n",
       "      <td>-2</td>\n",
       "      <td>Negative</td>\n",
       "    </tr>\n",
       "  </tbody>\n",
       "</table>\n",
       "</div>"
      ],
      "text/plain": [
       "                                 doc  score        pn\n",
       "0         닭이 너무 맛있어요 최고!! 육질이 살아있음\\n      4  Positive\n",
       "1             배송도 빠르고 상품도 좋습니다. ^^\\n      3  Positive\n",
       "2          기가막히게 맛있습니다. 사장님 감사합니다.\\n      5  Positive\n",
       "3  닭이 너무 작아요! 양이 작은 편인데도 부족하네요. ><\\n     -4  Negative\n",
       "4              완전 만족합니다. 재구매 각이네요.\\n      4  Positive\n",
       "5          삼계탕에 넣었는데 양이 기대 이하네요...\\n     -2  Negative"
      ]
     },
     "execution_count": 127,
     "metadata": {},
     "output_type": "execute_result"
    }
   ],
   "source": [
    "# 리뷰결과 데이터프레임 6개만 확인\n",
    "res.head(6)"
   ]
  },
  {
   "cell_type": "markdown",
   "metadata": {},
   "source": [
    "### 2-5. 결과 시각화"
   ]
  },
  {
   "cell_type": "code",
   "execution_count": 128,
   "metadata": {},
   "outputs": [],
   "source": [
    "# 판정결과를 갯수기준으로 그룹화\n",
    "res_g = res.groupby([pn]).count()"
   ]
  },
  {
   "cell_type": "code",
   "execution_count": 129,
   "metadata": {
    "scrolled": true
   },
   "outputs": [
    {
     "data": {
      "text/html": [
       "<div>\n",
       "<style scoped>\n",
       "    .dataframe tbody tr th:only-of-type {\n",
       "        vertical-align: middle;\n",
       "    }\n",
       "\n",
       "    .dataframe tbody tr th {\n",
       "        vertical-align: top;\n",
       "    }\n",
       "\n",
       "    .dataframe thead th {\n",
       "        text-align: right;\n",
       "    }\n",
       "</style>\n",
       "<table border=\"1\" class=\"dataframe\">\n",
       "  <thead>\n",
       "    <tr style=\"text-align: right;\">\n",
       "      <th></th>\n",
       "      <th>doc</th>\n",
       "      <th>score</th>\n",
       "      <th>pn</th>\n",
       "    </tr>\n",
       "  </thead>\n",
       "  <tbody>\n",
       "    <tr>\n",
       "      <th>Negative</th>\n",
       "      <td>13</td>\n",
       "      <td>13</td>\n",
       "      <td>13</td>\n",
       "    </tr>\n",
       "    <tr>\n",
       "      <th>Neutral</th>\n",
       "      <td>3</td>\n",
       "      <td>3</td>\n",
       "      <td>3</td>\n",
       "    </tr>\n",
       "    <tr>\n",
       "      <th>Positive</th>\n",
       "      <td>14</td>\n",
       "      <td>14</td>\n",
       "      <td>14</td>\n",
       "    </tr>\n",
       "  </tbody>\n",
       "</table>\n",
       "</div>"
      ],
      "text/plain": [
       "          doc  score  pn\n",
       "Negative   13     13  13\n",
       "Neutral     3      3   3\n",
       "Positive   14     14  14"
      ]
     },
     "execution_count": 129,
     "metadata": {},
     "output_type": "execute_result"
    }
   ],
   "source": [
    "# 그룹화 결과 확인\n",
    "res_g"
   ]
  },
  {
   "cell_type": "code",
   "execution_count": 130,
   "metadata": {},
   "outputs": [],
   "source": [
    "# 파이차트 그리기위해 비율 계산\n",
    "pct = res_g['pn']/res_g['pn'].sum()"
   ]
  },
  {
   "cell_type": "code",
   "execution_count": 131,
   "metadata": {
    "scrolled": true
   },
   "outputs": [
    {
     "data": {
      "image/png": "[encoded data removed]",
      "text/plain": [
       "<Figure size 720x720 with 1 Axes>"
      ]
     },
     "metadata": {},
     "output_type": "display_data"
    }
   ],
   "source": [
    "# 파이차트 그리기\n",
    "plt.figure(figsize=(10, 10))\n",
    "plt.pie(pct, labels = res_g.index, autopct='%.1f%%', startangle = 0, counterclock = False)\n",
    "plt.show()"
   ]
  },
  {
   "cell_type": "markdown",
   "metadata": {},
   "source": [
    "> [분석스토리]  \n",
    "감성 분석 결과를 확인한 김 대표는 의기소침해졌습니다. 만족한 고객이 더 많을 것이라 생각했는데 실상은 그렇지 못했기 때문입니다. 하지만 이제 겨우 첫 판매일 뿐입니다. 처음임에도 불구하고 43.3%의 고객이 만족했다니 얼마나 대단한 일인가요? 나머지 고객까지 만족시키기 위해 김 대표는 지금보다 훨씬 훌륭한 품질의 닭을 키우고 말겠다고 다짐했습니다. 그러기 위해서는 지금처럼 끊임없는 데이터 분석과 기준 정립 그리고 실행 능력이 필요할 것입니다. 그렇게 된다면 아마도 머지않아 김 대표의 농장은 충분히 경쟁력 있는 회사로 우뚝 설 것입니다."
   ]
  }
 ],
 "metadata": {
  "kernelspec": {
   "display_name": "Python 3",
   "language": "python",
   "name": "python3"
  },
  "language_info": {
   "codemirror_mode": {
    "name": "ipython",
    "version": 3
   },
   "file_extension": ".py",
   "mimetype": "text/x-python",
   "name": "python",
   "nbconvert_exporter": "python",
   "pygments_lexer": "ipython3",
   "version": "3.8.5"
  }
 },
 "nbformat": 4,
 "nbformat_minor": 5
}
