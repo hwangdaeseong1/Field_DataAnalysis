{
 "cells": [
  {
   "cell_type": "markdown",
   "metadata": {},
   "source": [
    "# Chapter 7. 인공신경망과 딥 러닝"
   ]
  },
  {
   "cell_type": "markdown",
   "metadata": {},
   "source": [
    "> [분석스토리]  \n",
    "어느덧 병아리가 부화하고, 성장한 지 70일이 지났습니다. 이제 어엿한 닭으로 성장했지만 타사 대비 닭의 발육 상태가 떨어진 것을 확인했습니다. 이에 김 대표는 그 원인을 분석하기 시작했습니다. 그리고 도출한 결론은 종란 무게와 닭으로 성장할 때까지의 누적 사료량 관리가 가장 중요한 변수라고 판단했습니다. 따라서 앞으로 체계적인 닭의 발육관리를 위해 종란 무게 및 누적 사료량에 따른 닭의 몸무게 예측 모델을 개발하기로 했습니다."
   ]
  },
  {
   "cell_type": "markdown",
   "metadata": {},
   "source": [
    "## 1. 성장한 닭의 체중을 예측할 수 있을까? (회귀)"
   ]
  },
  {
   "cell_type": "markdown",
   "metadata": {},
   "source": [
    "### 1-1. 인공신경망이란?"
   ]
  },
  {
   "cell_type": "markdown",
   "metadata": {},
   "source": [
    "> 우리 몸의 신경세포(Neuron)는 수상 돌기(Dendrite)를 통해 전기적 신호를 입력받아 신호의 강도가 일정 기준을 초과할 때 즉, 역치 이상의 자극이 주어질 때 신경세포가 활성화되어 축삭 돌기(Axon)를 통해 신호를 내보냅니다. 이런 중추신경계를 모방하여 만들어진 머신러닝 알고리즘이 인공신경망(Artificial Neural Network)입니다.\n",
    "<div>\n",
    "<img src=\"https://upload.wikimedia.org/wikipedia/commons/thumb/b/bc/Neuron_Hand-tuned.svg/400px-Neuron_Hand-tuned.svg.png\" width=\"500\"/>\n",
    "    <center>신경세포(출처 : wikipedia)</center>\n",
    "</div>"
   ]
  },
  {
   "cell_type": "markdown",
   "metadata": {},
   "source": [
    "### 1-2. 데이터 및 상관관계 확인"
   ]
  },
  {
   "cell_type": "code",
   "execution_count": 1,
   "metadata": {},
   "outputs": [],
   "source": [
    "import pandas as pd\n",
    "w = pd.read_csv(\"ch7-1.csv\")"
   ]
  },
  {
   "cell_type": "code",
   "execution_count": 2,
   "metadata": {
    "scrolled": true
   },
   "outputs": [
    {
     "name": "stdout",
     "output_type": "stream",
     "text": [
      "<class 'pandas.core.frame.DataFrame'>\n",
      "RangeIndex: 300 entries, 0 to 299\n",
      "Data columns (total 3 columns):\n",
      " #   Column      Non-Null Count  Dtype\n",
      "---  ------      --------------  -----\n",
      " 0   egg_weight  300 non-null    int64\n",
      " 1   acc_food    300 non-null    int64\n",
      " 2   weight      300 non-null    int64\n",
      "dtypes: int64(3)\n",
      "memory usage: 7.2 KB\n"
     ]
    }
   ],
   "source": [
    "w.info()"
   ]
  },
  {
   "cell_type": "code",
   "execution_count": 3,
   "metadata": {},
   "outputs": [
    {
     "data": {
      "text/html": [
       "<div>\n",
       "<style scoped>\n",
       "    .dataframe tbody tr th:only-of-type {\n",
       "        vertical-align: middle;\n",
       "    }\n",
       "\n",
       "    .dataframe tbody tr th {\n",
       "        vertical-align: top;\n",
       "    }\n",
       "\n",
       "    .dataframe thead th {\n",
       "        text-align: right;\n",
       "    }\n",
       "</style>\n",
       "<table border=\"1\" class=\"dataframe\">\n",
       "  <thead>\n",
       "    <tr style=\"text-align: right;\">\n",
       "      <th></th>\n",
       "      <th>egg_weight</th>\n",
       "      <th>acc_food</th>\n",
       "      <th>weight</th>\n",
       "    </tr>\n",
       "  </thead>\n",
       "  <tbody>\n",
       "    <tr>\n",
       "      <th>0</th>\n",
       "      <td>69</td>\n",
       "      <td>10602</td>\n",
       "      <td>4128</td>\n",
       "    </tr>\n",
       "    <tr>\n",
       "      <th>1</th>\n",
       "      <td>76</td>\n",
       "      <td>10640</td>\n",
       "      <td>4104</td>\n",
       "    </tr>\n",
       "    <tr>\n",
       "      <th>2</th>\n",
       "      <td>76</td>\n",
       "      <td>10898</td>\n",
       "      <td>4119</td>\n",
       "    </tr>\n",
       "    <tr>\n",
       "      <th>3</th>\n",
       "      <td>71</td>\n",
       "      <td>10384</td>\n",
       "      <td>4127</td>\n",
       "    </tr>\n",
       "    <tr>\n",
       "      <th>4</th>\n",
       "      <td>71</td>\n",
       "      <td>10709</td>\n",
       "      <td>4112</td>\n",
       "    </tr>\n",
       "  </tbody>\n",
       "</table>\n",
       "</div>"
      ],
      "text/plain": [
       "   egg_weight  acc_food  weight\n",
       "0          69     10602    4128\n",
       "1          76     10640    4104\n",
       "2          76     10898    4119\n",
       "3          71     10384    4127\n",
       "4          71     10709    4112"
      ]
     },
     "execution_count": 3,
     "metadata": {},
     "output_type": "execute_result"
    }
   ],
   "source": [
    "w.head()"
   ]
  },
  {
   "cell_type": "code",
   "execution_count": 4,
   "metadata": {},
   "outputs": [
    {
     "data": {
      "text/html": [
       "<div>\n",
       "<style scoped>\n",
       "    .dataframe tbody tr th:only-of-type {\n",
       "        vertical-align: middle;\n",
       "    }\n",
       "\n",
       "    .dataframe tbody tr th {\n",
       "        vertical-align: top;\n",
       "    }\n",
       "\n",
       "    .dataframe thead th {\n",
       "        text-align: right;\n",
       "    }\n",
       "</style>\n",
       "<table border=\"1\" class=\"dataframe\">\n",
       "  <thead>\n",
       "    <tr style=\"text-align: right;\">\n",
       "      <th></th>\n",
       "      <th>egg_weight</th>\n",
       "      <th>acc_food</th>\n",
       "      <th>weight</th>\n",
       "    </tr>\n",
       "  </thead>\n",
       "  <tbody>\n",
       "    <tr>\n",
       "      <th>egg_weight</th>\n",
       "      <td>1.000000</td>\n",
       "      <td>0.944810</td>\n",
       "      <td>0.779895</td>\n",
       "    </tr>\n",
       "    <tr>\n",
       "      <th>acc_food</th>\n",
       "      <td>0.944810</td>\n",
       "      <td>1.000000</td>\n",
       "      <td>0.790082</td>\n",
       "    </tr>\n",
       "    <tr>\n",
       "      <th>weight</th>\n",
       "      <td>0.779895</td>\n",
       "      <td>0.790082</td>\n",
       "      <td>1.000000</td>\n",
       "    </tr>\n",
       "  </tbody>\n",
       "</table>\n",
       "</div>"
      ],
      "text/plain": [
       "            egg_weight  acc_food    weight\n",
       "egg_weight    1.000000  0.944810  0.779895\n",
       "acc_food      0.944810  1.000000  0.790082\n",
       "weight        0.779895  0.790082  1.000000"
      ]
     },
     "execution_count": 4,
     "metadata": {},
     "output_type": "execute_result"
    }
   ],
   "source": [
    "# 상관분석 실시\n",
    "w_cor = w.corr(method = 'pearson')\n",
    "w_cor"
   ]
  },
  {
   "cell_type": "code",
   "execution_count": 5,
   "metadata": {},
   "outputs": [
    {
     "data": {
      "text/plain": [
       "<seaborn.axisgrid.PairGrid at 0x16636fb6610>"
      ]
     },
     "execution_count": 5,
     "metadata": {},
     "output_type": "execute_result"
    },
    {
     "data": {
      "image/png": "[encoded data removed]",
      "text/plain": [
       "<Figure size 540x540 with 12 Axes>"
      ]
     },
     "metadata": {
      "needs_background": "light"
     },
     "output_type": "display_data"
    }
   ],
   "source": [
    "# 상관관계 시각화\n",
    "import seaborn as sns\n",
    "sns.pairplot(w)"
   ]
  },
  {
   "cell_type": "markdown",
   "metadata": {},
   "source": [
    "### 1-3. 데이터 분할하기"
   ]
  },
  {
   "cell_type": "code",
   "execution_count": 6,
   "metadata": {},
   "outputs": [],
   "source": [
    "# 데이터셋 x, y로 분할, ndarray 타입\n",
    "x_data = w.iloc[:,0:2].values\n",
    "y_data = w.iloc[:,2].values"
   ]
  },
  {
   "cell_type": "code",
   "execution_count": 8,
   "metadata": {},
   "outputs": [],
   "source": [
    "# 데이터 셋 분할을 위한 함수 불러오기\n",
    "from sklearn.model_selection import train_test_split"
   ]
  },
  {
   "cell_type": "code",
   "execution_count": 9,
   "metadata": {},
   "outputs": [],
   "source": [
    "# 훈련용과 테스트용 8:2로 분할 실시\n",
    "x_train, x_test, y_train, y_test = train_test_split(x_data, y_data, test_size=0.2)"
   ]
  },
  {
   "cell_type": "code",
   "execution_count": 30,
   "metadata": {},
   "outputs": [
    {
     "data": {
      "text/plain": [
       "(240, 60)"
      ]
     },
     "execution_count": 30,
     "metadata": {},
     "output_type": "execute_result"
    }
   ],
   "source": [
    "# 데이터 분할 후 행수 확인\n",
    "len(pd.DataFrame(x_train)), len(pd.DataFrame(x_test))"
   ]
  },
  {
   "cell_type": "markdown",
   "metadata": {},
   "source": [
    "### 1-4. 신경망 구현"
   ]
  },
  {
   "cell_type": "code",
   "execution_count": 33,
   "metadata": {},
   "outputs": [],
   "source": [
    "# MLP 알고리즘 수행을 위한 함수 불러오기\n",
    "from sklearn.neural_network import MLPRegressor"
   ]
  },
  {
   "cell_type": "code",
   "execution_count": 34,
   "metadata": {},
   "outputs": [],
   "source": [
    "# 모델 구축 및 학습\n",
    "model_mlp = MLPRegressor().fit(x_train, y_train)"
   ]
  },
  {
   "cell_type": "code",
   "execution_count": 35,
   "metadata": {},
   "outputs": [
    {
     "data": {
      "text/plain": [
       "{'activation': 'relu',\n",
       " 'alpha': 0.0001,\n",
       " 'batch_size': 'auto',\n",
       " 'beta_1': 0.9,\n",
       " 'beta_2': 0.999,\n",
       " 'early_stopping': False,\n",
       " 'epsilon': 1e-08,\n",
       " 'hidden_layer_sizes': (100,),\n",
       " 'learning_rate': 'constant',\n",
       " 'learning_rate_init': 0.001,\n",
       " 'max_fun': 15000,\n",
       " 'max_iter': 200,\n",
       " 'momentum': 0.9,\n",
       " 'n_iter_no_change': 10,\n",
       " 'nesterovs_momentum': True,\n",
       " 'power_t': 0.5,\n",
       " 'random_state': None,\n",
       " 'shuffle': True,\n",
       " 'solver': 'adam',\n",
       " 'tol': 0.0001,\n",
       " 'validation_fraction': 0.1,\n",
       " 'verbose': False,\n",
       " 'warm_start': False}"
      ]
     },
     "execution_count": 35,
     "metadata": {},
     "output_type": "execute_result"
    }
   ],
   "source": [
    "# 모델 파라미터 확인\n",
    "model_mlp.get_params()"
   ]
  },
  {
   "cell_type": "code",
   "execution_count": 36,
   "metadata": {},
   "outputs": [],
   "source": [
    "# 예측값 생성\n",
    "y_pred_mlp = model_mlp.predict(x_test)"
   ]
  },
  {
   "cell_type": "code",
   "execution_count": 37,
   "metadata": {},
   "outputs": [
    {
     "data": {
      "text/plain": [
       "array([4156.78834546, 4050.47878433, 4224.95699923, 4099.01903465,\n",
       "       4072.03712254, 4340.62796566, 4472.36933027, 4071.44698972,\n",
       "       4405.82874699, 4067.87538872, 4112.43702043, 4251.09768462,\n",
       "       4311.42785023, 4115.37770139, 4148.54283969, 4032.47845137,\n",
       "       4248.23496553, 4207.5467991 , 4345.82763713, 4271.14670142,\n",
       "       4149.88264163, 4264.00349944, 4189.86192616, 4122.41575003,\n",
       "       4322.61403696, 4356.08103954, 4186.3039209 , 4400.73422886,\n",
       "       4269.21676665, 4280.20624244, 4313.9751093 , 4375.3160211 ,\n",
       "       4180.27661844, 4381.01426781, 4358.50954954, 4223.72235063,\n",
       "       4458.95134449, 4353.04880099, 4370.1435411 , 4092.90017459,\n",
       "       4007.03305215, 4268.49428901, 4029.91759657, 4295.67291206,\n",
       "       4235.53945739, 4311.21754355, 4218.12925726, 4065.22297632,\n",
       "       4062.99117726, 4375.82819206, 4267.78540711, 4223.82750397,\n",
       "       4189.84833042, 4258.30525273, 4323.84868556, 4080.40137739,\n",
       "       4345.82763713, 4225.95414968, 3998.07866447, 4049.87505577])"
      ]
     },
     "execution_count": 37,
     "metadata": {},
     "output_type": "execute_result"
    }
   ],
   "source": [
    "# 예측값 확인\n",
    "y_pred_mlp"
   ]
  },
  {
   "cell_type": "markdown",
   "metadata": {},
   "source": [
    "### 1-5. 회귀모델의 성능 평가"
   ]
  },
  {
   "cell_type": "code",
   "execution_count": 41,
   "metadata": {},
   "outputs": [],
   "source": [
    "# 회귀성능 지표 계산용 함수 불러오기 및 계산\n",
    "from sklearn.metrics import mean_squared_error, mean_absolute_error, r2_score\n",
    "# squared = True일 경우 MSE, False일 경우는 RMSE\n",
    "RMSE = mean_squared_error(y_test, y_pred_mlp, squared = False)\n",
    "MAE = mean_absolute_error(y_test, y_pred_mlp)\n",
    "R2 = r2_score(y_test, y_pred_mlp)"
   ]
  },
  {
   "cell_type": "code",
   "execution_count": 42,
   "metadata": {},
   "outputs": [
    {
     "data": {
      "text/plain": [
       "(161.82660022130042, 132.12576946585412, -44.615239782764775)"
      ]
     },
     "execution_count": 42,
     "metadata": {},
     "output_type": "execute_result"
    }
   ],
   "source": [
    "RMSE, MAE, R2"
   ]
  },
  {
   "cell_type": "markdown",
   "metadata": {},
   "source": [
    "### 1-7. H2O 활용 딥 러닝 구현(회귀)"
   ]
  },
  {
   "cell_type": "code",
   "execution_count": 2,
   "metadata": {},
   "outputs": [],
   "source": [
    "# 데이터셋 8:2 분할\n",
    "from sklearn.model_selection import train_test_split\n",
    "train, test = train_test_split(w, test_size=0.2)"
   ]
  },
  {
   "cell_type": "code",
   "execution_count": 46,
   "metadata": {},
   "outputs": [
    {
     "name": "stdout",
     "output_type": "stream",
     "text": [
      "Requirement already satisfied: requests in c:\\programdata\\anaconda3\\lib\\site-packages (2.24.0)\n",
      "Requirement already satisfied: chardet<4,>=3.0.2 in c:\\programdata\\anaconda3\\lib\\site-packages (from requests) (3.0.4)\n",
      "Requirement already satisfied: certifi>=2017.4.17 in c:\\programdata\\anaconda3\\lib\\site-packages (from requests) (2020.6.20)\n",
      "Requirement already satisfied: urllib3!=1.25.0,!=1.25.1,<1.26,>=1.21.1 in c:\\programdata\\anaconda3\\lib\\site-packages (from requests) (1.25.11)\n",
      "Requirement already satisfied: idna<3,>=2.5 in c:\\programdata\\anaconda3\\lib\\site-packages (from requests) (2.10)\n",
      "Requirement already satisfied: tabulate in c:\\programdata\\anaconda3\\lib\\site-packages (0.8.9)\n",
      "Requirement already satisfied: future in c:\\programdata\\anaconda3\\lib\\site-packages (0.18.2)\n"
     ]
    }
   ],
   "source": [
    "# H2O 의존 패키지 설치\n",
    "!pip install requests\n",
    "!pip install tabulate\n",
    "!pip install future"
   ]
  },
  {
   "cell_type": "code",
   "execution_count": 4,
   "metadata": {
    "scrolled": true
   },
   "outputs": [
    {
     "name": "stdout",
     "output_type": "stream",
     "text": [
      "Looking in links: http://h2o-release.s3.amazonaws.com/h2o/latest_stable_Py.html\n",
      "Requirement already satisfied: h2o in c:\\programdata\\anaconda3\\lib\\site-packages (3.36.0.2)\n",
      "Requirement already satisfied: tabulate in c:\\programdata\\anaconda3\\lib\\site-packages (from h2o) (0.8.9)\n",
      "Requirement already satisfied: requests in c:\\programdata\\anaconda3\\lib\\site-packages (from h2o) (2.24.0)\n",
      "Requirement already satisfied: future in c:\\programdata\\anaconda3\\lib\\site-packages (from h2o) (0.18.2)\n",
      "Requirement already satisfied: urllib3!=1.25.0,!=1.25.1,<1.26,>=1.21.1 in c:\\programdata\\anaconda3\\lib\\site-packages (from requests->h2o) (1.25.11)\n",
      "Requirement already satisfied: idna<3,>=2.5 in c:\\programdata\\anaconda3\\lib\\site-packages (from requests->h2o) (2.10)\n",
      "Requirement already satisfied: certifi>=2017.4.17 in c:\\programdata\\anaconda3\\lib\\site-packages (from requests->h2o) (2020.6.20)\n",
      "Requirement already satisfied: chardet<4,>=3.0.2 in c:\\programdata\\anaconda3\\lib\\site-packages (from requests->h2o) (3.0.4)\n"
     ]
    }
   ],
   "source": [
    "# H2O 패키지 설치\n",
    "!pip install -f http://h2o-release.s3.amazonaws.com/h2o/latest_stable_Py.html h2o"
   ]
  },
  {
   "cell_type": "code",
   "execution_count": 5,
   "metadata": {},
   "outputs": [
    {
     "name": "stdout",
     "output_type": "stream",
     "text": [
      "Checking whether there is an H2O instance running at http://localhost:54321 . connected.\n"
     ]
    },
    {
     "data": {
      "text/html": [
       "<div style=\"overflow:auto\"><table style=\"width:50%\"><tr><td>H2O_cluster_uptime:</td>\n",
       "<td>6 mins 22 secs</td></tr>\n",
       "<tr><td>H2O_cluster_timezone:</td>\n",
       "<td>Asia/Seoul</td></tr>\n",
       "<tr><td>H2O_data_parsing_timezone:</td>\n",
       "<td>UTC</td></tr>\n",
       "<tr><td>H2O_cluster_version:</td>\n",
       "<td>3.36.0.2</td></tr>\n",
       "<tr><td>H2O_cluster_version_age:</td>\n",
       "<td>21 days and 35 minutes </td></tr>\n",
       "<tr><td>H2O_cluster_name:</td>\n",
       "<td>H2O_from_python_nosense_9js3js</td></tr>\n",
       "<tr><td>H2O_cluster_total_nodes:</td>\n",
       "<td>1</td></tr>\n",
       "<tr><td>H2O_cluster_free_memory:</td>\n",
       "<td>1.953 Gb</td></tr>\n",
       "<tr><td>H2O_cluster_total_cores:</td>\n",
       "<td>8</td></tr>\n",
       "<tr><td>H2O_cluster_allowed_cores:</td>\n",
       "<td>8</td></tr>\n",
       "<tr><td>H2O_cluster_status:</td>\n",
       "<td>locked, healthy</td></tr>\n",
       "<tr><td>H2O_connection_url:</td>\n",
       "<td>http://localhost:54321</td></tr>\n",
       "<tr><td>H2O_connection_proxy:</td>\n",
       "<td>{\"http\": null, \"https\": null}</td></tr>\n",
       "<tr><td>H2O_internal_security:</td>\n",
       "<td>False</td></tr>\n",
       "<tr><td>H2O_API_Extensions:</td>\n",
       "<td>Amazon S3, Algos, Infogram, AutoML, Core V3, TargetEncoder, Core V4</td></tr>\n",
       "<tr><td>Python_version:</td>\n",
       "<td>3.8.5 final</td></tr></table></div>"
      ],
      "text/plain": [
       "--------------------------  -------------------------------------------------------------------\n",
       "H2O_cluster_uptime:         6 mins 22 secs\n",
       "H2O_cluster_timezone:       Asia/Seoul\n",
       "H2O_data_parsing_timezone:  UTC\n",
       "H2O_cluster_version:        3.36.0.2\n",
       "H2O_cluster_version_age:    21 days and 35 minutes\n",
       "H2O_cluster_name:           H2O_from_python_nosense_9js3js\n",
       "H2O_cluster_total_nodes:    1\n",
       "H2O_cluster_free_memory:    1.953 Gb\n",
       "H2O_cluster_total_cores:    8\n",
       "H2O_cluster_allowed_cores:  8\n",
       "H2O_cluster_status:         locked, healthy\n",
       "H2O_connection_url:         http://localhost:54321\n",
       "H2O_connection_proxy:       {\"http\": null, \"https\": null}\n",
       "H2O_internal_security:      False\n",
       "H2O_API_Extensions:         Amazon S3, Algos, Infogram, AutoML, Core V3, TargetEncoder, Core V4\n",
       "Python_version:             3.8.5 final\n",
       "--------------------------  -------------------------------------------------------------------"
      ]
     },
     "metadata": {},
     "output_type": "display_data"
    }
   ],
   "source": [
    "# H2O 패키지 실행\n",
    "import h2o\n",
    "h2o.init()"
   ]
  },
  {
   "cell_type": "code",
   "execution_count": 8,
   "metadata": {},
   "outputs": [
    {
     "name": "stdout",
     "output_type": "stream",
     "text": [
      "Parse progress: |████████████████████████████████████████████████████████████████| (done) 100%\n"
     ]
    }
   ],
   "source": [
    "# 훈련용 데이터셋 H2O 전용 데이터프레임으로 변환\n",
    "hf_train = h2o.H2OFrame(train)"
   ]
  },
  {
   "cell_type": "code",
   "execution_count": 9,
   "metadata": {},
   "outputs": [
    {
     "name": "stdout",
     "output_type": "stream",
     "text": [
      "Parse progress: |████████████████████████████████████████████████████████████████| (done) 100%\n"
     ]
    }
   ],
   "source": [
    "# 테스트용 데이터셋 H2O 전용 데이터프레임으로 변환\n",
    "hf_test = h2o.H2OFrame(test)"
   ]
  },
  {
   "cell_type": "code",
   "execution_count": 31,
   "metadata": {},
   "outputs": [
    {
     "name": "stdout",
     "output_type": "stream",
     "text": [
      "H2OFrame: 'Key_Frame__upload_bcd51246251ac3df3806c2ba60194e43.hex' \n",
      "Dimensions: 240 obs. of 3 variables\n",
      "$ egg_weight :  num 79 71 74 59 54 74 58 79 62 79\n",
      "$ acc_food   :  num 10823 10611 10856 9983 9998 10842 10140 10949 10142 10918\n",
      "$ weight     :  num 4108 4134 4133 4077 4054 4126 4084 4092 4110 4116\n"
     ]
    }
   ],
   "source": [
    "hf_train.structure()"
   ]
  },
  {
   "cell_type": "code",
   "execution_count": 32,
   "metadata": {},
   "outputs": [
    {
     "name": "stdout",
     "output_type": "stream",
     "text": [
      "H2OFrame: 'Key_Frame__upload_baf952c48823ab7e6f52c2899a4e44e0.hex' \n",
      "Dimensions: 60 obs. of 3 variables\n",
      "$ egg_weight :  num 62 55 64 54 59 71 80 53 78 56\n",
      "$ acc_food   :  num 10166 9910 10332 10030 9960 10611 10928 9963 10766 9952\n",
      "$ weight     :  num 4091 4075 4110 4070 4095 4134 4104 4054 4096 4080\n"
     ]
    }
   ],
   "source": [
    "hf_test.structure()"
   ]
  },
  {
   "cell_type": "code",
   "execution_count": 24,
   "metadata": {},
   "outputs": [
    {
     "name": "stdout",
     "output_type": "stream",
     "text": [
      "deeplearning Model Build progress: |█████████████████████████████████████████████| (done) 100%\n"
     ]
    }
   ],
   "source": [
    "# 딥러닝 구현을 위한 함수 불러오기\n",
    "from h2o.estimators import H2ODeepLearningEstimator\n",
    "# 모델 구축 및 학습\n",
    "model_h2o = H2ODeepLearningEstimator().train(x=['egg_weight','acc_food'], y='weight', training_frame=hf_train)"
   ]
  },
  {
   "cell_type": "code",
   "execution_count": 25,
   "metadata": {},
   "outputs": [
    {
     "name": "stdout",
     "output_type": "stream",
     "text": [
      "Model Details\n",
      "=============\n",
      "H2ODeepLearningEstimator :  Deep Learning\n",
      "Model Key:  DeepLearning_model_python_1644925253288_2\n",
      "\n",
      "\n",
      "Status of Neuron Layers: predicting weight, regression, gaussian distribution, Quadratic loss, 41,001 weights/biases, 488.6 KB, 2,400 training samples, mini-batch size 1\n"
     ]
    },
    {
     "data": {
      "text/html": [
       "<div>\n",
       "<style scoped>\n",
       "    .dataframe tbody tr th:only-of-type {\n",
       "        vertical-align: middle;\n",
       "    }\n",
       "\n",
       "    .dataframe tbody tr th {\n",
       "        vertical-align: top;\n",
       "    }\n",
       "\n",
       "    .dataframe thead th {\n",
       "        text-align: right;\n",
       "    }\n",
       "</style>\n",
       "<table border=\"1\" class=\"dataframe\">\n",
       "  <thead>\n",
       "    <tr style=\"text-align: right;\">\n",
       "      <th></th>\n",
       "      <th></th>\n",
       "      <th>layer</th>\n",
       "      <th>units</th>\n",
       "      <th>type</th>\n",
       "      <th>dropout</th>\n",
       "      <th>l1</th>\n",
       "      <th>l2</th>\n",
       "      <th>mean_rate</th>\n",
       "      <th>rate_rms</th>\n",
       "      <th>momentum</th>\n",
       "      <th>mean_weight</th>\n",
       "      <th>weight_rms</th>\n",
       "      <th>mean_bias</th>\n",
       "      <th>bias_rms</th>\n",
       "    </tr>\n",
       "  </thead>\n",
       "  <tbody>\n",
       "    <tr>\n",
       "      <th>0</th>\n",
       "      <td></td>\n",
       "      <td>1</td>\n",
       "      <td>2</td>\n",
       "      <td>Input</td>\n",
       "      <td>0</td>\n",
       "      <td></td>\n",
       "      <td></td>\n",
       "      <td></td>\n",
       "      <td></td>\n",
       "      <td></td>\n",
       "      <td></td>\n",
       "      <td></td>\n",
       "      <td></td>\n",
       "      <td></td>\n",
       "    </tr>\n",
       "    <tr>\n",
       "      <th>1</th>\n",
       "      <td></td>\n",
       "      <td>2</td>\n",
       "      <td>200</td>\n",
       "      <td>Rectifier</td>\n",
       "      <td>0</td>\n",
       "      <td>0</td>\n",
       "      <td>0</td>\n",
       "      <td>0.00960303</td>\n",
       "      <td>0.00670159</td>\n",
       "      <td>0</td>\n",
       "      <td>-0.00369656</td>\n",
       "      <td>0.117065</td>\n",
       "      <td>0.478553</td>\n",
       "      <td>0.0191746</td>\n",
       "    </tr>\n",
       "    <tr>\n",
       "      <th>2</th>\n",
       "      <td></td>\n",
       "      <td>3</td>\n",
       "      <td>200</td>\n",
       "      <td>Rectifier</td>\n",
       "      <td>0</td>\n",
       "      <td>0</td>\n",
       "      <td>0</td>\n",
       "      <td>0.100458</td>\n",
       "      <td>0.188097</td>\n",
       "      <td>0</td>\n",
       "      <td>-0.00778299</td>\n",
       "      <td>0.0709496</td>\n",
       "      <td>0.984798</td>\n",
       "      <td>0.0127437</td>\n",
       "    </tr>\n",
       "    <tr>\n",
       "      <th>3</th>\n",
       "      <td></td>\n",
       "      <td>4</td>\n",
       "      <td>1</td>\n",
       "      <td>Linear</td>\n",
       "      <td></td>\n",
       "      <td>0</td>\n",
       "      <td>0</td>\n",
       "      <td>0.000701913</td>\n",
       "      <td>0.00125364</td>\n",
       "      <td>0</td>\n",
       "      <td>-0.00606226</td>\n",
       "      <td>0.0639031</td>\n",
       "      <td>-0.00102524</td>\n",
       "      <td>1.09713e-154</td>\n",
       "    </tr>\n",
       "  </tbody>\n",
       "</table>\n",
       "</div>"
      ],
      "text/plain": [
       "     layer  units       type dropout l1 l2    mean_rate    rate_rms momentum  \\\n",
       "0        1      2      Input       0                                           \n",
       "1        2    200  Rectifier       0  0  0   0.00960303  0.00670159        0   \n",
       "2        3    200  Rectifier       0  0  0     0.100458    0.188097        0   \n",
       "3        4      1     Linear          0  0  0.000701913  0.00125364        0   \n",
       "\n",
       "  mean_weight weight_rms   mean_bias      bias_rms  \n",
       "0                                                   \n",
       "1 -0.00369656   0.117065    0.478553     0.0191746  \n",
       "2 -0.00778299  0.0709496    0.984798     0.0127437  \n",
       "3 -0.00606226  0.0639031 -0.00102524  1.09713e-154  "
      ]
     },
     "metadata": {},
     "output_type": "display_data"
    },
    {
     "name": "stdout",
     "output_type": "stream",
     "text": [
      "\n",
      "\n",
      "ModelMetricsRegression: deeplearning\n",
      "** Reported on train data. **\n",
      "\n",
      "MSE: 115.70025031687932\n",
      "RMSE: 10.756405083338919\n",
      "MAE: 8.566932378723234\n",
      "RMSLE: 0.0026164770831522996\n",
      "Mean Residual Deviance: 115.70025031687932\n",
      "\n",
      "Scoring History: \n"
     ]
    },
    {
     "data": {
      "text/html": [
       "<div>\n",
       "<style scoped>\n",
       "    .dataframe tbody tr th:only-of-type {\n",
       "        vertical-align: middle;\n",
       "    }\n",
       "\n",
       "    .dataframe tbody tr th {\n",
       "        vertical-align: top;\n",
       "    }\n",
       "\n",
       "    .dataframe thead th {\n",
       "        text-align: right;\n",
       "    }\n",
       "</style>\n",
       "<table border=\"1\" class=\"dataframe\">\n",
       "  <thead>\n",
       "    <tr style=\"text-align: right;\">\n",
       "      <th></th>\n",
       "      <th></th>\n",
       "      <th>timestamp</th>\n",
       "      <th>duration</th>\n",
       "      <th>training_speed</th>\n",
       "      <th>epochs</th>\n",
       "      <th>iterations</th>\n",
       "      <th>samples</th>\n",
       "      <th>training_rmse</th>\n",
       "      <th>training_deviance</th>\n",
       "      <th>training_mae</th>\n",
       "      <th>training_r2</th>\n",
       "    </tr>\n",
       "  </thead>\n",
       "  <tbody>\n",
       "    <tr>\n",
       "      <th>0</th>\n",
       "      <td></td>\n",
       "      <td>2022-02-15 22:04:02</td>\n",
       "      <td>0.000 sec</td>\n",
       "      <td>None</td>\n",
       "      <td>0.0</td>\n",
       "      <td>0</td>\n",
       "      <td>0.0</td>\n",
       "      <td>NaN</td>\n",
       "      <td>NaN</td>\n",
       "      <td>NaN</td>\n",
       "      <td>NaN</td>\n",
       "    </tr>\n",
       "    <tr>\n",
       "      <th>1</th>\n",
       "      <td></td>\n",
       "      <td>2022-02-15 22:04:02</td>\n",
       "      <td>0.096 sec</td>\n",
       "      <td>5853 obs/sec</td>\n",
       "      <td>1.0</td>\n",
       "      <td>1</td>\n",
       "      <td>240.0</td>\n",
       "      <td>15.057890</td>\n",
       "      <td>226.74005</td>\n",
       "      <td>12.407975</td>\n",
       "      <td>0.624048</td>\n",
       "    </tr>\n",
       "    <tr>\n",
       "      <th>2</th>\n",
       "      <td></td>\n",
       "      <td>2022-02-15 22:04:02</td>\n",
       "      <td>0.470 sec</td>\n",
       "      <td>5911 obs/sec</td>\n",
       "      <td>10.0</td>\n",
       "      <td>10</td>\n",
       "      <td>2400.0</td>\n",
       "      <td>10.756405</td>\n",
       "      <td>115.70025</td>\n",
       "      <td>8.566932</td>\n",
       "      <td>0.808160</td>\n",
       "    </tr>\n",
       "  </tbody>\n",
       "</table>\n",
       "</div>"
      ],
      "text/plain": [
       "               timestamp    duration training_speed  epochs  iterations  \\\n",
       "0    2022-02-15 22:04:02   0.000 sec           None     0.0           0   \n",
       "1    2022-02-15 22:04:02   0.096 sec   5853 obs/sec     1.0           1   \n",
       "2    2022-02-15 22:04:02   0.470 sec   5911 obs/sec    10.0          10   \n",
       "\n",
       "   samples  training_rmse  training_deviance  training_mae  training_r2  \n",
       "0      0.0            NaN                NaN           NaN          NaN  \n",
       "1    240.0      15.057890          226.74005     12.407975     0.624048  \n",
       "2   2400.0      10.756405          115.70025      8.566932     0.808160  "
      ]
     },
     "metadata": {},
     "output_type": "display_data"
    },
    {
     "name": "stdout",
     "output_type": "stream",
     "text": [
      "\n",
      "Variable Importances: \n"
     ]
    },
    {
     "data": {
      "text/html": [
       "<div>\n",
       "<style scoped>\n",
       "    .dataframe tbody tr th:only-of-type {\n",
       "        vertical-align: middle;\n",
       "    }\n",
       "\n",
       "    .dataframe tbody tr th {\n",
       "        vertical-align: top;\n",
       "    }\n",
       "\n",
       "    .dataframe thead th {\n",
       "        text-align: right;\n",
       "    }\n",
       "</style>\n",
       "<table border=\"1\" class=\"dataframe\">\n",
       "  <thead>\n",
       "    <tr style=\"text-align: right;\">\n",
       "      <th></th>\n",
       "      <th>variable</th>\n",
       "      <th>relative_importance</th>\n",
       "      <th>scaled_importance</th>\n",
       "      <th>percentage</th>\n",
       "    </tr>\n",
       "  </thead>\n",
       "  <tbody>\n",
       "    <tr>\n",
       "      <th>0</th>\n",
       "      <td>acc_food</td>\n",
       "      <td>1.000000</td>\n",
       "      <td>1.000000</td>\n",
       "      <td>0.515204</td>\n",
       "    </tr>\n",
       "    <tr>\n",
       "      <th>1</th>\n",
       "      <td>egg_weight</td>\n",
       "      <td>0.940979</td>\n",
       "      <td>0.940979</td>\n",
       "      <td>0.484796</td>\n",
       "    </tr>\n",
       "  </tbody>\n",
       "</table>\n",
       "</div>"
      ],
      "text/plain": [
       "     variable  relative_importance  scaled_importance  percentage\n",
       "0    acc_food             1.000000           1.000000    0.515204\n",
       "1  egg_weight             0.940979           0.940979    0.484796"
      ]
     },
     "metadata": {},
     "output_type": "display_data"
    },
    {
     "data": {
      "text/plain": []
     },
     "execution_count": 25,
     "metadata": {},
     "output_type": "execute_result"
    }
   ],
   "source": [
    "# 모델 정보 확인\n",
    "model_h2o"
   ]
  },
  {
   "cell_type": "code",
   "execution_count": 26,
   "metadata": {
    "scrolled": true
   },
   "outputs": [
    {
     "name": "stdout",
     "output_type": "stream",
     "text": [
      "\n",
      "ModelMetricsRegression: deeplearning\n",
      "** Reported on train data. **\n",
      "\n",
      "MSE: 115.70025031687932\n",
      "RMSE: 10.756405083338919\n",
      "MAE: 8.566932378723234\n",
      "RMSLE: 0.0026164770831522996\n",
      "Mean Residual Deviance: 115.70025031687932\n"
     ]
    },
    {
     "data": {
      "text/plain": []
     },
     "execution_count": 26,
     "metadata": {},
     "output_type": "execute_result"
    }
   ],
   "source": [
    "# 모델 성능만 확인\n",
    "model_h2o.model_performance()"
   ]
  },
  {
   "cell_type": "code",
   "execution_count": 27,
   "metadata": {},
   "outputs": [
    {
     "data": {
      "text/plain": [
       "0.8081604788838568"
      ]
     },
     "execution_count": 27,
     "metadata": {},
     "output_type": "execute_result"
    }
   ],
   "source": [
    "# 모델 성능지표 R2 확인\n",
    "model_h2o.r2()"
   ]
  },
  {
   "cell_type": "code",
   "execution_count": 28,
   "metadata": {
    "scrolled": false
   },
   "outputs": [
    {
     "name": "stdout",
     "output_type": "stream",
     "text": [
      "deeplearning prediction progress: |██████████████████████████████████████████████| (done) 100%\n"
     ]
    }
   ],
   "source": [
    "# 예측값 생성\n",
    "y_pred_h2o = model_h2o.predict(hf_test)"
   ]
  },
  {
   "cell_type": "code",
   "execution_count": 29,
   "metadata": {},
   "outputs": [
    {
     "data": {
      "text/html": [
       "<table>\n",
       "<thead>\n",
       "<tr><th style=\"text-align: right;\">  predict</th></tr>\n",
       "</thead>\n",
       "<tbody>\n",
       "<tr><td style=\"text-align: right;\">  4111   </td></tr>\n",
       "<tr><td style=\"text-align: right;\">  4098.48</td></tr>\n",
       "<tr><td style=\"text-align: right;\">  4109.39</td></tr>\n",
       "<tr><td style=\"text-align: right;\">  4116.96</td></tr>\n",
       "<tr><td style=\"text-align: right;\">  4114.43</td></tr>\n",
       "</tbody>\n",
       "</table>"
      ]
     },
     "metadata": {},
     "output_type": "display_data"
    },
    {
     "data": {
      "text/plain": []
     },
     "execution_count": 29,
     "metadata": {},
     "output_type": "execute_result"
    }
   ],
   "source": [
    "y_pred_h2o.head(5)"
   ]
  },
  {
   "cell_type": "code",
   "execution_count": 30,
   "metadata": {},
   "outputs": [],
   "source": [
    "# 테스트용 데이터셋에 예측값 predict열로 추가\n",
    "hf_result = hf_test.cbind(y_pred_h2o)"
   ]
  },
  {
   "cell_type": "code",
   "execution_count": 31,
   "metadata": {
    "scrolled": true
   },
   "outputs": [
    {
     "data": {
      "text/html": [
       "<table>\n",
       "<thead>\n",
       "<tr><th style=\"text-align: right;\">  egg_weight</th><th style=\"text-align: right;\">  acc_food</th><th style=\"text-align: right;\">  weight</th><th style=\"text-align: right;\">  predict</th></tr>\n",
       "</thead>\n",
       "<tbody>\n",
       "<tr><td style=\"text-align: right;\">          75</td><td style=\"text-align: right;\">     10780</td><td style=\"text-align: right;\">    4115</td><td style=\"text-align: right;\">  4111   </td></tr>\n",
       "<tr><td style=\"text-align: right;\">          63</td><td style=\"text-align: right;\">     10297</td><td style=\"text-align: right;\">    4109</td><td style=\"text-align: right;\">  4098.48</td></tr>\n",
       "<tr><td style=\"text-align: right;\">          77</td><td style=\"text-align: right;\">     10757</td><td style=\"text-align: right;\">    4108</td><td style=\"text-align: right;\">  4109.39</td></tr>\n",
       "<tr><td style=\"text-align: right;\">          69</td><td style=\"text-align: right;\">     10547</td><td style=\"text-align: right;\">    4135</td><td style=\"text-align: right;\">  4116.96</td></tr>\n",
       "<tr><td style=\"text-align: right;\">          72</td><td style=\"text-align: right;\">     10610</td><td style=\"text-align: right;\">    4117</td><td style=\"text-align: right;\">  4114.43</td></tr>\n",
       "</tbody>\n",
       "</table>"
      ]
     },
     "metadata": {},
     "output_type": "display_data"
    },
    {
     "data": {
      "text/plain": []
     },
     "execution_count": 31,
     "metadata": {},
     "output_type": "execute_result"
    }
   ],
   "source": [
    "hf_result.head(5)"
   ]
  },
  {
   "cell_type": "code",
   "execution_count": 38,
   "metadata": {},
   "outputs": [],
   "source": [
    "# sklearn.metrics 모듈 이용을 위해 데이터셋을 h2oframe에서 ndarray로 변경\n",
    "y_test2 = hf_result[2].as_data_frame().values\n",
    "y_pred_h2o = hf_result[3].as_data_frame().values"
   ]
  },
  {
   "cell_type": "code",
   "execution_count": 39,
   "metadata": {},
   "outputs": [],
   "source": [
    "# 회귀성능 지표 계산용 함수 불러오기 및 계산\n",
    "from sklearn.metrics import mean_squared_error, mean_absolute_error, r2_score\n",
    "# squared = True일 경우 MSE, False일 경우는 RMSE\n",
    "RMSE = mean_squared_error(y_test2, y_pred_h2o, squared = False)\n",
    "MAE = mean_absolute_error(y_test2, y_pred_h2o)\n",
    "R2 = r2_score(y_test2, y_pred_h2o)"
   ]
  },
  {
   "cell_type": "code",
   "execution_count": 40,
   "metadata": {},
   "outputs": [
    {
     "data": {
      "text/plain": [
       "(9.778786204520141, 7.999860805244899, 0.8320701641004156)"
      ]
     },
     "execution_count": 40,
     "metadata": {},
     "output_type": "execute_result"
    }
   ],
   "source": [
    "RMSE, MAE, R2"
   ]
  },
  {
   "cell_type": "markdown",
   "metadata": {},
   "source": [
    "---"
   ]
  },
  {
   "cell_type": "markdown",
   "metadata": {},
   "source": [
    "## 2. 딥 러닝을 이용해 병아리의 품종을 다시 구분해 보자! (분류)"
   ]
  },
  {
   "cell_type": "markdown",
   "metadata": {},
   "source": [
    "### 2-1. Keras 활용 딥 러닝 구현(분류)"
   ]
  },
  {
   "cell_type": "code",
   "execution_count": 1,
   "metadata": {},
   "outputs": [
    {
     "name": "stdout",
     "output_type": "stream",
     "text": [
      "Requirement already satisfied: tensorflow in c:\\programdata\\anaconda3\\lib\\site-packages (2.8.0)\n",
      "Requirement already satisfied: keras<2.9,>=2.8.0rc0 in c:\\programdata\\anaconda3\\lib\\site-packages (from tensorflow) (2.8.0)\n",
      "Requirement already satisfied: astunparse>=1.6.0 in c:\\programdata\\anaconda3\\lib\\site-packages (from tensorflow) (1.6.3)\n",
      "Requirement already satisfied: h5py>=2.9.0 in c:\\programdata\\anaconda3\\lib\\site-packages (from tensorflow) (2.10.0)\n",
      "Requirement already satisfied: typing-extensions>=3.6.6 in c:\\programdata\\anaconda3\\lib\\site-packages (from tensorflow) (3.7.4.3)\n",
      "Requirement already satisfied: protobuf>=3.9.2 in c:\\programdata\\anaconda3\\lib\\site-packages (from tensorflow) (3.19.4)\n",
      "Requirement already satisfied: numpy>=1.20 in c:\\programdata\\anaconda3\\lib\\site-packages (from tensorflow) (1.22.2)\n",
      "Requirement already satisfied: six>=1.12.0 in c:\\programdata\\anaconda3\\lib\\site-packages (from tensorflow) (1.15.0)\n",
      "Requirement already satisfied: grpcio<2.0,>=1.24.3 in c:\\programdata\\anaconda3\\lib\\site-packages (from tensorflow) (1.43.0)\n",
      "Requirement already satisfied: absl-py>=0.4.0 in c:\\programdata\\anaconda3\\lib\\site-packages (from tensorflow) (1.0.0)\n",
      "Requirement already satisfied: tensorflow-io-gcs-filesystem>=0.23.1 in c:\\programdata\\anaconda3\\lib\\site-packages (from tensorflow) (0.24.0)\n",
      "Requirement already satisfied: wrapt>=1.11.0 in c:\\programdata\\anaconda3\\lib\\site-packages (from tensorflow) (1.11.2)\n",
      "Requirement already satisfied: keras-preprocessing>=1.1.1 in c:\\programdata\\anaconda3\\lib\\site-packages (from tensorflow) (1.1.2)\n",
      "Requirement already satisfied: opt-einsum>=2.3.2 in c:\\programdata\\anaconda3\\lib\\site-packages (from tensorflow) (3.3.0)\n",
      "Requirement already satisfied: gast>=0.2.1 in c:\\programdata\\anaconda3\\lib\\site-packages (from tensorflow) (0.5.3)\n",
      "Requirement already satisfied: termcolor>=1.1.0 in c:\\programdata\\anaconda3\\lib\\site-packages (from tensorflow) (1.1.0)\n",
      "Requirement already satisfied: tf-estimator-nightly==2.8.0.dev2021122109 in c:\\programdata\\anaconda3\\lib\\site-packages (from tensorflow) (2.8.0.dev2021122109)\n",
      "Requirement already satisfied: setuptools in c:\\programdata\\anaconda3\\lib\\site-packages (from tensorflow) (50.3.1.post20201107)\n",
      "Requirement already satisfied: libclang>=9.0.1 in c:\\programdata\\anaconda3\\lib\\site-packages (from tensorflow) (13.0.0)\n",
      "Requirement already satisfied: flatbuffers>=1.12 in c:\\programdata\\anaconda3\\lib\\site-packages (from tensorflow) (2.0)\n",
      "Requirement already satisfied: tensorboard<2.9,>=2.8 in c:\\programdata\\anaconda3\\lib\\site-packages (from tensorflow) (2.8.0)\n",
      "Requirement already satisfied: google-pasta>=0.1.1 in c:\\programdata\\anaconda3\\lib\\site-packages (from tensorflow) (0.2.0)\n",
      "Requirement already satisfied: wheel<1.0,>=0.23.0 in c:\\programdata\\anaconda3\\lib\\site-packages (from astunparse>=1.6.0->tensorflow) (0.35.1)\n",
      "Requirement already satisfied: tensorboard-data-server<0.7.0,>=0.6.0 in c:\\programdata\\anaconda3\\lib\\site-packages (from tensorboard<2.9,>=2.8->tensorflow) (0.6.1)\n",
      "Requirement already satisfied: google-auth-oauthlib<0.5,>=0.4.1 in c:\\programdata\\anaconda3\\lib\\site-packages (from tensorboard<2.9,>=2.8->tensorflow) (0.4.6)\n",
      "Requirement already satisfied: werkzeug>=0.11.15 in c:\\programdata\\anaconda3\\lib\\site-packages (from tensorboard<2.9,>=2.8->tensorflow) (1.0.1)\n",
      "Requirement already satisfied: markdown>=2.6.8 in c:\\programdata\\anaconda3\\lib\\site-packages (from tensorboard<2.9,>=2.8->tensorflow) (3.3.6)\n",
      "Requirement already satisfied: tensorboard-plugin-wit>=1.6.0 in c:\\programdata\\anaconda3\\lib\\site-packages (from tensorboard<2.9,>=2.8->tensorflow) (1.8.1)\n",
      "Requirement already satisfied: google-auth<3,>=1.6.3 in c:\\programdata\\anaconda3\\lib\\site-packages (from tensorboard<2.9,>=2.8->tensorflow) (2.6.0)\n",
      "Requirement already satisfied: requests<3,>=2.21.0 in c:\\programdata\\anaconda3\\lib\\site-packages (from tensorboard<2.9,>=2.8->tensorflow) (2.24.0)\n",
      "Requirement already satisfied: requests-oauthlib>=0.7.0 in c:\\programdata\\anaconda3\\lib\\site-packages (from google-auth-oauthlib<0.5,>=0.4.1->tensorboard<2.9,>=2.8->tensorflow) (1.3.1)\n",
      "Requirement already satisfied: importlib-metadata>=4.4; python_version < \"3.10\" in c:\\programdata\\anaconda3\\lib\\site-packages (from markdown>=2.6.8->tensorboard<2.9,>=2.8->tensorflow) (4.11.1)\n",
      "Requirement already satisfied: rsa<5,>=3.1.4; python_version >= \"3.6\" in c:\\programdata\\anaconda3\\lib\\site-packages (from google-auth<3,>=1.6.3->tensorboard<2.9,>=2.8->tensorflow) (4.8)\n",
      "Requirement already satisfied: pyasn1-modules>=0.2.1 in c:\\programdata\\anaconda3\\lib\\site-packages (from google-auth<3,>=1.6.3->tensorboard<2.9,>=2.8->tensorflow) (0.2.8)\n",
      "Requirement already satisfied: cachetools<6.0,>=2.0.0 in c:\\programdata\\anaconda3\\lib\\site-packages (from google-auth<3,>=1.6.3->tensorboard<2.9,>=2.8->tensorflow) (5.0.0)\n",
      "Requirement already satisfied: idna<3,>=2.5 in c:\\programdata\\anaconda3\\lib\\site-packages (from requests<3,>=2.21.0->tensorboard<2.9,>=2.8->tensorflow) (2.10)\n",
      "Requirement already satisfied: chardet<4,>=3.0.2 in c:\\programdata\\anaconda3\\lib\\site-packages (from requests<3,>=2.21.0->tensorboard<2.9,>=2.8->tensorflow) (3.0.4)\n",
      "Requirement already satisfied: certifi>=2017.4.17 in c:\\programdata\\anaconda3\\lib\\site-packages (from requests<3,>=2.21.0->tensorboard<2.9,>=2.8->tensorflow) (2020.6.20)\n",
      "Requirement already satisfied: urllib3!=1.25.0,!=1.25.1,<1.26,>=1.21.1 in c:\\programdata\\anaconda3\\lib\\site-packages (from requests<3,>=2.21.0->tensorboard<2.9,>=2.8->tensorflow) (1.25.11)\n",
      "Requirement already satisfied: oauthlib>=3.0.0 in c:\\programdata\\anaconda3\\lib\\site-packages (from requests-oauthlib>=0.7.0->google-auth-oauthlib<0.5,>=0.4.1->tensorboard<2.9,>=2.8->tensorflow) (3.2.0)\n",
      "Requirement already satisfied: zipp>=0.5 in c:\\programdata\\anaconda3\\lib\\site-packages (from importlib-metadata>=4.4; python_version < \"3.10\"->markdown>=2.6.8->tensorboard<2.9,>=2.8->tensorflow) (3.4.0)\n",
      "Requirement already satisfied: pyasn1>=0.1.3 in c:\\programdata\\anaconda3\\lib\\site-packages (from rsa<5,>=3.1.4; python_version >= \"3.6\"->google-auth<3,>=1.6.3->tensorboard<2.9,>=2.8->tensorflow) (0.4.8)\n",
      "Requirement already satisfied: keras in c:\\programdata\\anaconda3\\lib\\site-packages (2.8.0)\n"
     ]
    }
   ],
   "source": [
    "# tensorflow & keras 설치\n",
    "!pip install tensorflow\n",
    "!pip install keras"
   ]
  },
  {
   "cell_type": "code",
   "execution_count": 2,
   "metadata": {},
   "outputs": [],
   "source": [
    "# 딥 러닝용 함수 불러오기\n",
    "from tensorflow import keras\n",
    "from keras.models import Sequential\n",
    "from keras.layers import Input, Dense"
   ]
  },
  {
   "cell_type": "code",
   "execution_count": 3,
   "metadata": {},
   "outputs": [],
   "source": [
    "# 실습용 데이터 불러오기\n",
    "import pandas as pd\n",
    "df_train = pd.read_csv('ch6-2_train.csv')\n",
    "df_test = pd.read_csv('ch6-2_test.csv')"
   ]
  },
  {
   "cell_type": "code",
   "execution_count": 4,
   "metadata": {},
   "outputs": [],
   "source": [
    "# train, test 데이터셋 각각 x, y로 분할, ndarray 타입\n",
    "x_train = df_train.iloc[:,0:3].values\n",
    "y_train = df_train.iloc[:,3].values\n",
    "x_test = df_test.iloc[:,0:3].values\n",
    "y_test = df_test.iloc[:,3].values"
   ]
  },
  {
   "cell_type": "code",
   "execution_count": 5,
   "metadata": {},
   "outputs": [
    {
     "data": {
      "text/html": [
       "<div>\n",
       "<style scoped>\n",
       "    .dataframe tbody tr th:only-of-type {\n",
       "        vertical-align: middle;\n",
       "    }\n",
       "\n",
       "    .dataframe tbody tr th {\n",
       "        vertical-align: top;\n",
       "    }\n",
       "\n",
       "    .dataframe thead th {\n",
       "        text-align: right;\n",
       "    }\n",
       "</style>\n",
       "<table border=\"1\" class=\"dataframe\">\n",
       "  <thead>\n",
       "    <tr style=\"text-align: right;\">\n",
       "      <th></th>\n",
       "      <th>wing_length</th>\n",
       "      <th>tail_length</th>\n",
       "      <th>comb_height</th>\n",
       "    </tr>\n",
       "  </thead>\n",
       "  <tbody>\n",
       "    <tr>\n",
       "      <th>count</th>\n",
       "      <td>60.000000</td>\n",
       "      <td>60.000000</td>\n",
       "      <td>60.000000</td>\n",
       "    </tr>\n",
       "    <tr>\n",
       "      <th>mean</th>\n",
       "      <td>237.983333</td>\n",
       "      <td>68.383333</td>\n",
       "      <td>34.066667</td>\n",
       "    </tr>\n",
       "    <tr>\n",
       "      <th>std</th>\n",
       "      <td>13.663624</td>\n",
       "      <td>3.527575</td>\n",
       "      <td>1.998870</td>\n",
       "    </tr>\n",
       "    <tr>\n",
       "      <th>min</th>\n",
       "      <td>211.000000</td>\n",
       "      <td>62.000000</td>\n",
       "      <td>30.000000</td>\n",
       "    </tr>\n",
       "    <tr>\n",
       "      <th>25%</th>\n",
       "      <td>228.750000</td>\n",
       "      <td>65.750000</td>\n",
       "      <td>33.000000</td>\n",
       "    </tr>\n",
       "    <tr>\n",
       "      <th>50%</th>\n",
       "      <td>238.500000</td>\n",
       "      <td>68.500000</td>\n",
       "      <td>34.000000</td>\n",
       "    </tr>\n",
       "    <tr>\n",
       "      <th>75%</th>\n",
       "      <td>250.000000</td>\n",
       "      <td>71.000000</td>\n",
       "      <td>35.000000</td>\n",
       "    </tr>\n",
       "    <tr>\n",
       "      <th>max</th>\n",
       "      <td>260.000000</td>\n",
       "      <td>74.000000</td>\n",
       "      <td>38.000000</td>\n",
       "    </tr>\n",
       "  </tbody>\n",
       "</table>\n",
       "</div>"
      ],
      "text/plain": [
       "       wing_length  tail_length  comb_height\n",
       "count    60.000000    60.000000    60.000000\n",
       "mean    237.983333    68.383333    34.066667\n",
       "std      13.663624     3.527575     1.998870\n",
       "min     211.000000    62.000000    30.000000\n",
       "25%     228.750000    65.750000    33.000000\n",
       "50%     238.500000    68.500000    34.000000\n",
       "75%     250.000000    71.000000    35.000000\n",
       "max     260.000000    74.000000    38.000000"
      ]
     },
     "execution_count": 5,
     "metadata": {},
     "output_type": "execute_result"
    }
   ],
   "source": [
    "# 독립변수 분포 확인\n",
    "df_test.describe()"
   ]
  },
  {
   "cell_type": "code",
   "execution_count": 6,
   "metadata": {},
   "outputs": [
    {
     "data": {
      "image/png": "[encoded data removed]",
      "text/plain": [
       "<Figure size 1080x720 with 1 Axes>"
      ]
     },
     "metadata": {
      "needs_background": "light"
     },
     "output_type": "display_data"
    }
   ],
   "source": [
    "# 히스토그램으로 독립변수 분포 확인\n",
    "import matplotlib.pyplot as plt\n",
    "plt.figure(figsize=(15, 10))\n",
    "plt.hist(df_train.wing_length, label = 'wing_length')\n",
    "plt.hist(df_train.tail_length, label = 'tail_length')\n",
    "plt.hist(df_train.comb_height, label = 'comb_height')\n",
    "plt.legend()\n",
    "plt.show()"
   ]
  },
  {
   "cell_type": "code",
   "execution_count": 7,
   "metadata": {},
   "outputs": [],
   "source": [
    "# Min-Max Scaling을 위한 함수 불러오기\n",
    "from sklearn.preprocessing import MinMaxScaler\n",
    "# x_train 데이터로 학습한 Min-Max Scaler 생성\n",
    "mms = MinMaxScaler().fit(x_train)"
   ]
  },
  {
   "cell_type": "code",
   "execution_count": 8,
   "metadata": {},
   "outputs": [],
   "source": [
    "# 스케일링 실시\n",
    "mm_x_train = mms.transform(x_train)\n",
    "mm_x_test = mms.transform(x_test)"
   ]
  },
  {
   "cell_type": "code",
   "execution_count": 9,
   "metadata": {},
   "outputs": [
    {
     "data": {
      "text/plain": [
       "array([[0.55102041, 0.08333333, 0.5       ],\n",
       "       [0.51020408, 0.41666667, 0.        ],\n",
       "       [0.91836735, 0.25      , 0.5       ],\n",
       "       [0.59183673, 0.08333333, 0.625     ],\n",
       "       [0.71428571, 0.25      , 0.        ]])"
      ]
     },
     "execution_count": 9,
     "metadata": {},
     "output_type": "execute_result"
    }
   ],
   "source": [
    "# 스케일링 결과 확인\n",
    "mm_x_train[0:5]"
   ]
  },
  {
   "cell_type": "code",
   "execution_count": 10,
   "metadata": {},
   "outputs": [
    {
     "data": {
      "text/plain": [
       "(0.0, 1.0)"
      ]
     },
     "execution_count": 10,
     "metadata": {},
     "output_type": "execute_result"
    }
   ],
   "source": [
    "# 최솟값, 최댓값 확인\n",
    "mm_x_train.min(), mm_x_train.max()"
   ]
  },
  {
   "cell_type": "code",
   "execution_count": 11,
   "metadata": {},
   "outputs": [
    {
     "data": {
      "text/plain": [
       "array(['a', 'a', 'a', 'a', 'a'], dtype=object)"
      ]
     },
     "execution_count": 11,
     "metadata": {},
     "output_type": "execute_result"
    }
   ],
   "source": [
    "# 종속변수 확인\n",
    "y_train[0:5]"
   ]
  },
  {
   "cell_type": "code",
   "execution_count": 12,
   "metadata": {},
   "outputs": [],
   "source": [
    "# One-Hot Encoding을 위한 함수 불러오기\n",
    "from sklearn.preprocessing import LabelBinarizer\n",
    "# y_train 데이터로 학습한 LabelBinarizer 생성\n",
    "lb = LabelBinarizer().fit(y_train)"
   ]
  },
  {
   "cell_type": "code",
   "execution_count": 13,
   "metadata": {},
   "outputs": [],
   "source": [
    "# 종속변수 a, b, c를 이진수로 One-Hot Encoding\n",
    "o_y_train = lb.transform(y_train)\n",
    "o_y_test = lb.transform(y_test)"
   ]
  },
  {
   "cell_type": "code",
   "execution_count": 14,
   "metadata": {},
   "outputs": [
    {
     "data": {
      "text/plain": [
       "array([[1, 0, 0],\n",
       "       [1, 0, 0],\n",
       "       [1, 0, 0],\n",
       "       [1, 0, 0],\n",
       "       [1, 0, 0]])"
      ]
     },
     "execution_count": 14,
     "metadata": {},
     "output_type": "execute_result"
    }
   ],
   "source": [
    "# One-Hot Encoding 결과 확인\n",
    "o_y_train[0:5]"
   ]
  },
  {
   "cell_type": "code",
   "execution_count": 15,
   "metadata": {},
   "outputs": [],
   "source": [
    "# 모델 구축\n",
    "model = Sequential()\n",
    "model.add(Input(3))\n",
    "model.add(Dense(16, activation = 'relu'))\n",
    "model.add(Dense(16, activation = 'relu'))\n",
    "model.add(Dense(3, activation = 'softmax'))"
   ]
  },
  {
   "cell_type": "code",
   "execution_count": 16,
   "metadata": {},
   "outputs": [
    {
     "name": "stdout",
     "output_type": "stream",
     "text": [
      "Model: \"sequential\"\n",
      "_________________________________________________________________\n",
      " Layer (type)                Output Shape              Param #   \n",
      "=================================================================\n",
      " dense (Dense)               (None, 16)                64        \n",
      "                                                                 \n",
      " dense_1 (Dense)             (None, 16)                272       \n",
      "                                                                 \n",
      " dense_2 (Dense)             (None, 3)                 51        \n",
      "                                                                 \n",
      "=================================================================\n",
      "Total params: 387\n",
      "Trainable params: 387\n",
      "Non-trainable params: 0\n",
      "_________________________________________________________________\n"
     ]
    }
   ],
   "source": [
    "# 모델 확인\n",
    "model.summary()"
   ]
  },
  {
   "cell_type": "code",
   "execution_count": 17,
   "metadata": {},
   "outputs": [],
   "source": [
    "# 모델 학습 설정(compile)\n",
    "model.compile(loss = 'categorical_crossentropy', optimizer = 'adam', metrics = 'accuracy')"
   ]
  },
  {
   "cell_type": "code",
   "execution_count": 18,
   "metadata": {
    "scrolled": true
   },
   "outputs": [
    {
     "name": "stdout",
     "output_type": "stream",
     "text": [
      "Epoch 1/300\n",
      "12/12 [==============================] - 1s 15ms/step - loss: 1.0769 - accuracy: 0.4167 - val_loss: 1.1230 - val_accuracy: 0.0000e+00\n",
      "Epoch 2/300\n",
      "12/12 [==============================] - 0s 3ms/step - loss: 1.0532 - accuracy: 0.4167 - val_loss: 1.1699 - val_accuracy: 0.0000e+00\n",
      "Epoch 3/300\n",
      "12/12 [==============================] - 0s 4ms/step - loss: 1.0314 - accuracy: 0.4167 - val_loss: 1.2064 - val_accuracy: 0.0000e+00\n",
      "Epoch 4/300\n",
      "12/12 [==============================] - 0s 3ms/step - loss: 1.0125 - accuracy: 0.4167 - val_loss: 1.2331 - val_accuracy: 0.0000e+00\n",
      "Epoch 5/300\n",
      "12/12 [==============================] - 0s 3ms/step - loss: 0.9951 - accuracy: 0.4167 - val_loss: 1.2586 - val_accuracy: 0.0000e+00\n",
      "Epoch 6/300\n",
      "12/12 [==============================] - 0s 3ms/step - loss: 0.9783 - accuracy: 0.4167 - val_loss: 1.2856 - val_accuracy: 0.0000e+00\n",
      "Epoch 7/300\n",
      "12/12 [==============================] - 0s 3ms/step - loss: 0.9616 - accuracy: 0.4271 - val_loss: 1.3093 - val_accuracy: 0.0000e+00\n",
      "Epoch 8/300\n",
      "12/12 [==============================] - 0s 3ms/step - loss: 0.9446 - accuracy: 0.4740 - val_loss: 1.3157 - val_accuracy: 0.0000e+00\n",
      "Epoch 9/300\n",
      "12/12 [==============================] - 0s 3ms/step - loss: 0.9279 - accuracy: 0.5365 - val_loss: 1.3261 - val_accuracy: 0.0000e+00\n",
      "Epoch 10/300\n",
      "12/12 [==============================] - 0s 3ms/step - loss: 0.9101 - accuracy: 0.5833 - val_loss: 1.3213 - val_accuracy: 0.0000e+00\n",
      "Epoch 11/300\n",
      "12/12 [==============================] - 0s 3ms/step - loss: 0.8916 - accuracy: 0.6458 - val_loss: 1.2965 - val_accuracy: 0.0000e+00\n",
      "Epoch 12/300\n",
      "12/12 [==============================] - 0s 3ms/step - loss: 0.8724 - accuracy: 0.6667 - val_loss: 1.2884 - val_accuracy: 0.0000e+00\n",
      "Epoch 13/300\n",
      "12/12 [==============================] - 0s 3ms/step - loss: 0.8523 - accuracy: 0.7031 - val_loss: 1.2614 - val_accuracy: 0.0000e+00\n",
      "Epoch 14/300\n",
      "12/12 [==============================] - 0s 3ms/step - loss: 0.8317 - accuracy: 0.7292 - val_loss: 1.2382 - val_accuracy: 0.0000e+00\n",
      "Epoch 15/300\n",
      "12/12 [==============================] - 0s 3ms/step - loss: 0.8092 - accuracy: 0.7604 - val_loss: 1.2124 - val_accuracy: 0.0000e+00\n",
      "Epoch 16/300\n",
      "12/12 [==============================] - 0s 3ms/step - loss: 0.7871 - accuracy: 0.7708 - val_loss: 1.2004 - val_accuracy: 0.0208\n",
      "Epoch 17/300\n",
      "12/12 [==============================] - 0s 3ms/step - loss: 0.7647 - accuracy: 0.7812 - val_loss: 1.1842 - val_accuracy: 0.0833\n",
      "Epoch 18/300\n",
      "12/12 [==============================] - 0s 3ms/step - loss: 0.7416 - accuracy: 0.8073 - val_loss: 1.1261 - val_accuracy: 0.2917\n",
      "Epoch 19/300\n",
      "12/12 [==============================] - 0s 3ms/step - loss: 0.7174 - accuracy: 0.8177 - val_loss: 1.1399 - val_accuracy: 0.2708\n",
      "Epoch 20/300\n",
      "12/12 [==============================] - 0s 3ms/step - loss: 0.6927 - accuracy: 0.8229 - val_loss: 1.0977 - val_accuracy: 0.2917\n",
      "Epoch 21/300\n",
      "12/12 [==============================] - 0s 3ms/step - loss: 0.6686 - accuracy: 0.8229 - val_loss: 1.0841 - val_accuracy: 0.2917\n",
      "Epoch 22/300\n",
      "12/12 [==============================] - 0s 3ms/step - loss: 0.6418 - accuracy: 0.8229 - val_loss: 1.0654 - val_accuracy: 0.3333\n",
      "Epoch 23/300\n",
      "12/12 [==============================] - 0s 3ms/step - loss: 0.6177 - accuracy: 0.8281 - val_loss: 1.0134 - val_accuracy: 0.4167\n",
      "Epoch 24/300\n",
      "12/12 [==============================] - 0s 3ms/step - loss: 0.5929 - accuracy: 0.8542 - val_loss: 1.0044 - val_accuracy: 0.4167\n",
      "Epoch 25/300\n",
      "12/12 [==============================] - 0s 3ms/step - loss: 0.5690 - accuracy: 0.8594 - val_loss: 1.0016 - val_accuracy: 0.4167\n",
      "Epoch 26/300\n",
      "12/12 [==============================] - 0s 3ms/step - loss: 0.5471 - accuracy: 0.8542 - val_loss: 1.0024 - val_accuracy: 0.4167\n",
      "Epoch 27/300\n",
      "12/12 [==============================] - 0s 3ms/step - loss: 0.5251 - accuracy: 0.8646 - val_loss: 0.9481 - val_accuracy: 0.4583\n",
      "Epoch 28/300\n",
      "12/12 [==============================] - 0s 3ms/step - loss: 0.5045 - accuracy: 0.8750 - val_loss: 0.9146 - val_accuracy: 0.4583\n",
      "Epoch 29/300\n",
      "12/12 [==============================] - 0s 3ms/step - loss: 0.4851 - accuracy: 0.8698 - val_loss: 0.9260 - val_accuracy: 0.5000\n",
      "Epoch 30/300\n",
      "12/12 [==============================] - 0s 3ms/step - loss: 0.4664 - accuracy: 0.8802 - val_loss: 0.8971 - val_accuracy: 0.5417\n",
      "Epoch 31/300\n",
      "12/12 [==============================] - 0s 3ms/step - loss: 0.4487 - accuracy: 0.8750 - val_loss: 0.8698 - val_accuracy: 0.5625\n",
      "Epoch 32/300\n",
      "12/12 [==============================] - 0s 3ms/step - loss: 0.4336 - accuracy: 0.8750 - val_loss: 0.8853 - val_accuracy: 0.5417\n",
      "Epoch 33/300\n",
      "12/12 [==============================] - 0s 3ms/step - loss: 0.4174 - accuracy: 0.8802 - val_loss: 0.8632 - val_accuracy: 0.5625\n",
      "Epoch 34/300\n",
      "12/12 [==============================] - 0s 3ms/step - loss: 0.4046 - accuracy: 0.8854 - val_loss: 0.8245 - val_accuracy: 0.5833\n",
      "Epoch 35/300\n",
      "12/12 [==============================] - 0s 3ms/step - loss: 0.3905 - accuracy: 0.8854 - val_loss: 0.7641 - val_accuracy: 0.6458\n",
      "Epoch 36/300\n",
      "12/12 [==============================] - 0s 3ms/step - loss: 0.3787 - accuracy: 0.8802 - val_loss: 0.8274 - val_accuracy: 0.6042\n",
      "Epoch 37/300\n",
      "12/12 [==============================] - 0s 3ms/step - loss: 0.3648 - accuracy: 0.8802 - val_loss: 0.7984 - val_accuracy: 0.6042\n",
      "Epoch 38/300\n",
      "12/12 [==============================] - 0s 3ms/step - loss: 0.3534 - accuracy: 0.8958 - val_loss: 0.7195 - val_accuracy: 0.6667\n",
      "Epoch 39/300\n",
      "12/12 [==============================] - 0s 3ms/step - loss: 0.3434 - accuracy: 0.8958 - val_loss: 0.6974 - val_accuracy: 0.6667\n",
      "Epoch 40/300\n",
      "12/12 [==============================] - 0s 3ms/step - loss: 0.3349 - accuracy: 0.8958 - val_loss: 0.7100 - val_accuracy: 0.6667\n",
      "Epoch 41/300\n",
      "12/12 [==============================] - 0s 3ms/step - loss: 0.3250 - accuracy: 0.8958 - val_loss: 0.6692 - val_accuracy: 0.6667\n",
      "Epoch 42/300\n",
      "12/12 [==============================] - 0s 3ms/step - loss: 0.3180 - accuracy: 0.9115 - val_loss: 0.6309 - val_accuracy: 0.6875\n",
      "Epoch 43/300\n",
      "12/12 [==============================] - 0s 3ms/step - loss: 0.3109 - accuracy: 0.8958 - val_loss: 0.6788 - val_accuracy: 0.6667\n",
      "Epoch 44/300\n",
      "12/12 [==============================] - 0s 3ms/step - loss: 0.3026 - accuracy: 0.8958 - val_loss: 0.6214 - val_accuracy: 0.6667\n",
      "Epoch 45/300\n",
      "12/12 [==============================] - 0s 3ms/step - loss: 0.2957 - accuracy: 0.9010 - val_loss: 0.6039 - val_accuracy: 0.6875\n",
      "Epoch 46/300\n",
      "12/12 [==============================] - 0s 3ms/step - loss: 0.2889 - accuracy: 0.9010 - val_loss: 0.6106 - val_accuracy: 0.6667\n",
      "Epoch 47/300\n",
      "12/12 [==============================] - 0s 3ms/step - loss: 0.2830 - accuracy: 0.9062 - val_loss: 0.6326 - val_accuracy: 0.6667\n",
      "Epoch 48/300\n",
      "12/12 [==============================] - 0s 3ms/step - loss: 0.2789 - accuracy: 0.9010 - val_loss: 0.6215 - val_accuracy: 0.6667\n",
      "Epoch 49/300\n",
      "12/12 [==============================] - 0s 3ms/step - loss: 0.2735 - accuracy: 0.9062 - val_loss: 0.5344 - val_accuracy: 0.7083\n",
      "Epoch 50/300\n",
      "12/12 [==============================] - 0s 3ms/step - loss: 0.2683 - accuracy: 0.9219 - val_loss: 0.5553 - val_accuracy: 0.7083\n",
      "Epoch 51/300\n",
      "12/12 [==============================] - 0s 3ms/step - loss: 0.2622 - accuracy: 0.9115 - val_loss: 0.5437 - val_accuracy: 0.7083\n",
      "Epoch 52/300\n",
      "12/12 [==============================] - 0s 3ms/step - loss: 0.2621 - accuracy: 0.9167 - val_loss: 0.5193 - val_accuracy: 0.7500\n",
      "Epoch 53/300\n",
      "12/12 [==============================] - 0s 3ms/step - loss: 0.2545 - accuracy: 0.9115 - val_loss: 0.5679 - val_accuracy: 0.6667\n",
      "Epoch 54/300\n",
      "12/12 [==============================] - 0s 3ms/step - loss: 0.2519 - accuracy: 0.9062 - val_loss: 0.5407 - val_accuracy: 0.7083\n",
      "Epoch 55/300\n",
      "12/12 [==============================] - 0s 3ms/step - loss: 0.2464 - accuracy: 0.9219 - val_loss: 0.5138 - val_accuracy: 0.7083\n",
      "Epoch 56/300\n",
      "12/12 [==============================] - 0s 3ms/step - loss: 0.2430 - accuracy: 0.9219 - val_loss: 0.5176 - val_accuracy: 0.7500\n",
      "Epoch 57/300\n",
      "12/12 [==============================] - 0s 3ms/step - loss: 0.2389 - accuracy: 0.9271 - val_loss: 0.5167 - val_accuracy: 0.7083\n",
      "Epoch 58/300\n",
      "12/12 [==============================] - 0s 3ms/step - loss: 0.2378 - accuracy: 0.9219 - val_loss: 0.5073 - val_accuracy: 0.7083\n",
      "Epoch 59/300\n",
      "12/12 [==============================] - 0s 3ms/step - loss: 0.2339 - accuracy: 0.9271 - val_loss: 0.4963 - val_accuracy: 0.7500\n",
      "Epoch 60/300\n",
      "12/12 [==============================] - 0s 3ms/step - loss: 0.2311 - accuracy: 0.9167 - val_loss: 0.5064 - val_accuracy: 0.7500\n",
      "Epoch 61/300\n",
      "12/12 [==============================] - 0s 3ms/step - loss: 0.2272 - accuracy: 0.9271 - val_loss: 0.4917 - val_accuracy: 0.7500\n",
      "Epoch 62/300\n",
      "12/12 [==============================] - 0s 3ms/step - loss: 0.2253 - accuracy: 0.9219 - val_loss: 0.4818 - val_accuracy: 0.7500\n",
      "Epoch 63/300\n",
      "12/12 [==============================] - 0s 3ms/step - loss: 0.2230 - accuracy: 0.9219 - val_loss: 0.4460 - val_accuracy: 0.7708\n",
      "Epoch 64/300\n",
      "12/12 [==============================] - 0s 3ms/step - loss: 0.2195 - accuracy: 0.9219 - val_loss: 0.4863 - val_accuracy: 0.7500\n",
      "Epoch 65/300\n",
      "12/12 [==============================] - 0s 3ms/step - loss: 0.2191 - accuracy: 0.9219 - val_loss: 0.4419 - val_accuracy: 0.7708\n",
      "Epoch 66/300\n",
      "12/12 [==============================] - 0s 3ms/step - loss: 0.2177 - accuracy: 0.9167 - val_loss: 0.4722 - val_accuracy: 0.7500\n",
      "Epoch 67/300\n",
      "12/12 [==============================] - 0s 3ms/step - loss: 0.2125 - accuracy: 0.9219 - val_loss: 0.4438 - val_accuracy: 0.7708\n",
      "Epoch 68/300\n",
      "12/12 [==============================] - 0s 3ms/step - loss: 0.2109 - accuracy: 0.9271 - val_loss: 0.4230 - val_accuracy: 0.7917\n",
      "Epoch 69/300\n",
      "12/12 [==============================] - 0s 3ms/step - loss: 0.2082 - accuracy: 0.9271 - val_loss: 0.4377 - val_accuracy: 0.7917\n",
      "Epoch 70/300\n",
      "12/12 [==============================] - 0s 3ms/step - loss: 0.2083 - accuracy: 0.9219 - val_loss: 0.4783 - val_accuracy: 0.7500\n",
      "Epoch 71/300\n",
      "12/12 [==============================] - 0s 3ms/step - loss: 0.2048 - accuracy: 0.9219 - val_loss: 0.4414 - val_accuracy: 0.7917\n",
      "Epoch 72/300\n",
      "12/12 [==============================] - 0s 3ms/step - loss: 0.2060 - accuracy: 0.9219 - val_loss: 0.3935 - val_accuracy: 0.8125\n",
      "Epoch 73/300\n",
      "12/12 [==============================] - 0s 3ms/step - loss: 0.2004 - accuracy: 0.9323 - val_loss: 0.4371 - val_accuracy: 0.7917\n",
      "Epoch 74/300\n",
      "12/12 [==============================] - 0s 3ms/step - loss: 0.2008 - accuracy: 0.9271 - val_loss: 0.4487 - val_accuracy: 0.7708\n",
      "Epoch 75/300\n",
      "12/12 [==============================] - 0s 3ms/step - loss: 0.1971 - accuracy: 0.9375 - val_loss: 0.4125 - val_accuracy: 0.8333\n",
      "Epoch 76/300\n",
      "12/12 [==============================] - 0s 3ms/step - loss: 0.2007 - accuracy: 0.9271 - val_loss: 0.4184 - val_accuracy: 0.7917\n",
      "Epoch 77/300\n",
      "12/12 [==============================] - 0s 3ms/step - loss: 0.1980 - accuracy: 0.9271 - val_loss: 0.3848 - val_accuracy: 0.8125\n",
      "Epoch 78/300\n",
      "12/12 [==============================] - 0s 3ms/step - loss: 0.1942 - accuracy: 0.9219 - val_loss: 0.4003 - val_accuracy: 0.8125\n",
      "Epoch 79/300\n",
      "12/12 [==============================] - 0s 3ms/step - loss: 0.1927 - accuracy: 0.9271 - val_loss: 0.4280 - val_accuracy: 0.7917\n",
      "Epoch 80/300\n",
      "12/12 [==============================] - 0s 3ms/step - loss: 0.1914 - accuracy: 0.9375 - val_loss: 0.3939 - val_accuracy: 0.8333\n",
      "Epoch 81/300\n",
      "12/12 [==============================] - 0s 3ms/step - loss: 0.1891 - accuracy: 0.9323 - val_loss: 0.4027 - val_accuracy: 0.8333\n",
      "Epoch 82/300\n",
      "12/12 [==============================] - 0s 3ms/step - loss: 0.1895 - accuracy: 0.9219 - val_loss: 0.3685 - val_accuracy: 0.8333\n",
      "Epoch 83/300\n",
      "12/12 [==============================] - 0s 3ms/step - loss: 0.1861 - accuracy: 0.9375 - val_loss: 0.3964 - val_accuracy: 0.8333\n",
      "Epoch 84/300\n",
      "12/12 [==============================] - 0s 3ms/step - loss: 0.1875 - accuracy: 0.9375 - val_loss: 0.3923 - val_accuracy: 0.8333\n",
      "Epoch 85/300\n",
      "12/12 [==============================] - 0s 3ms/step - loss: 0.1843 - accuracy: 0.9375 - val_loss: 0.3991 - val_accuracy: 0.8125\n",
      "Epoch 86/300\n",
      "12/12 [==============================] - 0s 3ms/step - loss: 0.1856 - accuracy: 0.9323 - val_loss: 0.3904 - val_accuracy: 0.8125\n",
      "Epoch 87/300\n",
      "12/12 [==============================] - 0s 3ms/step - loss: 0.1816 - accuracy: 0.9323 - val_loss: 0.3849 - val_accuracy: 0.8333\n",
      "Epoch 88/300\n",
      "12/12 [==============================] - 0s 3ms/step - loss: 0.1807 - accuracy: 0.9323 - val_loss: 0.3840 - val_accuracy: 0.8125\n",
      "Epoch 89/300\n",
      "12/12 [==============================] - 0s 4ms/step - loss: 0.1794 - accuracy: 0.9323 - val_loss: 0.3810 - val_accuracy: 0.8333\n",
      "Epoch 90/300\n",
      "12/12 [==============================] - 0s 3ms/step - loss: 0.1789 - accuracy: 0.9323 - val_loss: 0.3933 - val_accuracy: 0.8125\n",
      "Epoch 91/300\n",
      "12/12 [==============================] - 0s 3ms/step - loss: 0.1806 - accuracy: 0.9271 - val_loss: 0.3513 - val_accuracy: 0.8333\n",
      "Epoch 92/300\n",
      "12/12 [==============================] - 0s 3ms/step - loss: 0.1770 - accuracy: 0.9375 - val_loss: 0.3883 - val_accuracy: 0.8125\n",
      "Epoch 93/300\n",
      "12/12 [==============================] - 0s 3ms/step - loss: 0.1771 - accuracy: 0.9323 - val_loss: 0.3710 - val_accuracy: 0.8333\n",
      "Epoch 94/300\n",
      "12/12 [==============================] - 0s 3ms/step - loss: 0.1745 - accuracy: 0.9375 - val_loss: 0.3713 - val_accuracy: 0.8125\n",
      "Epoch 95/300\n",
      "12/12 [==============================] - 0s 3ms/step - loss: 0.1758 - accuracy: 0.9323 - val_loss: 0.3680 - val_accuracy: 0.8333\n",
      "Epoch 96/300\n",
      "12/12 [==============================] - 0s 3ms/step - loss: 0.1720 - accuracy: 0.9375 - val_loss: 0.3597 - val_accuracy: 0.8125\n",
      "Epoch 97/300\n",
      "12/12 [==============================] - 0s 4ms/step - loss: 0.1743 - accuracy: 0.9323 - val_loss: 0.3552 - val_accuracy: 0.8333\n",
      "Epoch 98/300\n",
      "12/12 [==============================] - 0s 3ms/step - loss: 0.1703 - accuracy: 0.9323 - val_loss: 0.3691 - val_accuracy: 0.8125\n",
      "Epoch 99/300\n",
      "12/12 [==============================] - 0s 3ms/step - loss: 0.1710 - accuracy: 0.9375 - val_loss: 0.3656 - val_accuracy: 0.8333\n",
      "Epoch 100/300\n",
      "12/12 [==============================] - 0s 3ms/step - loss: 0.1704 - accuracy: 0.9323 - val_loss: 0.3829 - val_accuracy: 0.8125\n",
      "Epoch 101/300\n",
      "12/12 [==============================] - 0s 3ms/step - loss: 0.1720 - accuracy: 0.9375 - val_loss: 0.3249 - val_accuracy: 0.8750\n",
      "Epoch 102/300\n",
      "12/12 [==============================] - 0s 3ms/step - loss: 0.1678 - accuracy: 0.9427 - val_loss: 0.3410 - val_accuracy: 0.8333\n",
      "Epoch 103/300\n",
      "12/12 [==============================] - 0s 3ms/step - loss: 0.1689 - accuracy: 0.9427 - val_loss: 0.3415 - val_accuracy: 0.8333\n",
      "Epoch 104/300\n",
      "12/12 [==============================] - 0s 3ms/step - loss: 0.1686 - accuracy: 0.9323 - val_loss: 0.3903 - val_accuracy: 0.8333\n",
      "Epoch 105/300\n",
      "12/12 [==============================] - 0s 3ms/step - loss: 0.1668 - accuracy: 0.9375 - val_loss: 0.3287 - val_accuracy: 0.8333\n",
      "Epoch 106/300\n",
      "12/12 [==============================] - 0s 3ms/step - loss: 0.1647 - accuracy: 0.9479 - val_loss: 0.3442 - val_accuracy: 0.8333\n",
      "Epoch 107/300\n",
      "12/12 [==============================] - 0s 3ms/step - loss: 0.1647 - accuracy: 0.9375 - val_loss: 0.3621 - val_accuracy: 0.8333\n",
      "Epoch 108/300\n",
      "12/12 [==============================] - 0s 3ms/step - loss: 0.1632 - accuracy: 0.9427 - val_loss: 0.3358 - val_accuracy: 0.8333\n",
      "Epoch 109/300\n",
      "12/12 [==============================] - 0s 3ms/step - loss: 0.1637 - accuracy: 0.9375 - val_loss: 0.3305 - val_accuracy: 0.8333\n",
      "Epoch 110/300\n",
      "12/12 [==============================] - 0s 3ms/step - loss: 0.1633 - accuracy: 0.9375 - val_loss: 0.3324 - val_accuracy: 0.8333\n",
      "Epoch 111/300\n",
      "12/12 [==============================] - 0s 3ms/step - loss: 0.1621 - accuracy: 0.9375 - val_loss: 0.3074 - val_accuracy: 0.8542\n",
      "Epoch 112/300\n",
      "12/12 [==============================] - 0s 3ms/step - loss: 0.1613 - accuracy: 0.9479 - val_loss: 0.3605 - val_accuracy: 0.8333\n",
      "Epoch 113/300\n",
      "12/12 [==============================] - 0s 3ms/step - loss: 0.1605 - accuracy: 0.9323 - val_loss: 0.3625 - val_accuracy: 0.8333\n",
      "Epoch 114/300\n",
      "12/12 [==============================] - 0s 3ms/step - loss: 0.1619 - accuracy: 0.9479 - val_loss: 0.3246 - val_accuracy: 0.8542\n",
      "Epoch 115/300\n",
      "12/12 [==============================] - 0s 3ms/step - loss: 0.1586 - accuracy: 0.9479 - val_loss: 0.3297 - val_accuracy: 0.8333\n"
     ]
    },
    {
     "name": "stdout",
     "output_type": "stream",
     "text": [
      "Epoch 116/300\n",
      "12/12 [==============================] - 0s 3ms/step - loss: 0.1590 - accuracy: 0.9479 - val_loss: 0.3162 - val_accuracy: 0.8333\n",
      "Epoch 117/300\n",
      "12/12 [==============================] - 0s 3ms/step - loss: 0.1588 - accuracy: 0.9479 - val_loss: 0.3547 - val_accuracy: 0.8333\n",
      "Epoch 118/300\n",
      "12/12 [==============================] - 0s 3ms/step - loss: 0.1617 - accuracy: 0.9375 - val_loss: 0.3813 - val_accuracy: 0.8125\n",
      "Epoch 119/300\n",
      "12/12 [==============================] - 0s 3ms/step - loss: 0.1574 - accuracy: 0.9479 - val_loss: 0.2828 - val_accuracy: 0.8750\n",
      "Epoch 120/300\n",
      "12/12 [==============================] - 0s 3ms/step - loss: 0.1581 - accuracy: 0.9323 - val_loss: 0.3142 - val_accuracy: 0.8542\n",
      "Epoch 121/300\n",
      "12/12 [==============================] - 0s 3ms/step - loss: 0.1553 - accuracy: 0.9479 - val_loss: 0.3295 - val_accuracy: 0.8542\n",
      "Epoch 122/300\n",
      "12/12 [==============================] - 0s 3ms/step - loss: 0.1566 - accuracy: 0.9427 - val_loss: 0.3234 - val_accuracy: 0.8542\n",
      "Epoch 123/300\n",
      "12/12 [==============================] - 0s 3ms/step - loss: 0.1547 - accuracy: 0.9427 - val_loss: 0.3440 - val_accuracy: 0.8333\n",
      "Epoch 124/300\n",
      "12/12 [==============================] - 0s 3ms/step - loss: 0.1552 - accuracy: 0.9479 - val_loss: 0.3061 - val_accuracy: 0.8542\n",
      "Epoch 125/300\n",
      "12/12 [==============================] - 0s 3ms/step - loss: 0.1535 - accuracy: 0.9479 - val_loss: 0.3178 - val_accuracy: 0.8542\n",
      "Epoch 126/300\n",
      "12/12 [==============================] - 0s 3ms/step - loss: 0.1527 - accuracy: 0.9479 - val_loss: 0.3166 - val_accuracy: 0.8750\n",
      "Epoch 127/300\n",
      "12/12 [==============================] - 0s 3ms/step - loss: 0.1534 - accuracy: 0.9479 - val_loss: 0.2884 - val_accuracy: 0.8750\n",
      "Epoch 128/300\n",
      "12/12 [==============================] - 0s 3ms/step - loss: 0.1513 - accuracy: 0.9479 - val_loss: 0.3178 - val_accuracy: 0.8542\n",
      "Epoch 129/300\n",
      "12/12 [==============================] - 0s 3ms/step - loss: 0.1520 - accuracy: 0.9479 - val_loss: 0.3201 - val_accuracy: 0.8542\n",
      "Epoch 130/300\n",
      "12/12 [==============================] - 0s 3ms/step - loss: 0.1511 - accuracy: 0.9479 - val_loss: 0.3215 - val_accuracy: 0.8542\n",
      "Epoch 131/300\n",
      "12/12 [==============================] - 0s 3ms/step - loss: 0.1513 - accuracy: 0.9479 - val_loss: 0.3073 - val_accuracy: 0.8750\n",
      "Epoch 132/300\n",
      "12/12 [==============================] - 0s 3ms/step - loss: 0.1524 - accuracy: 0.9375 - val_loss: 0.3352 - val_accuracy: 0.8542\n",
      "Epoch 133/300\n",
      "12/12 [==============================] - 0s 3ms/step - loss: 0.1519 - accuracy: 0.9479 - val_loss: 0.3172 - val_accuracy: 0.8542\n",
      "Epoch 134/300\n",
      "12/12 [==============================] - 0s 3ms/step - loss: 0.1491 - accuracy: 0.9479 - val_loss: 0.2817 - val_accuracy: 0.8958\n",
      "Epoch 135/300\n",
      "12/12 [==============================] - 0s 3ms/step - loss: 0.1495 - accuracy: 0.9427 - val_loss: 0.2946 - val_accuracy: 0.8958\n",
      "Epoch 136/300\n",
      "12/12 [==============================] - 0s 3ms/step - loss: 0.1502 - accuracy: 0.9479 - val_loss: 0.3272 - val_accuracy: 0.8542\n",
      "Epoch 137/300\n",
      "12/12 [==============================] - 0s 3ms/step - loss: 0.1492 - accuracy: 0.9479 - val_loss: 0.2883 - val_accuracy: 0.8958\n",
      "Epoch 138/300\n",
      "12/12 [==============================] - 0s 3ms/step - loss: 0.1481 - accuracy: 0.9427 - val_loss: 0.2876 - val_accuracy: 0.8958\n",
      "Epoch 139/300\n",
      "12/12 [==============================] - 0s 3ms/step - loss: 0.1481 - accuracy: 0.9479 - val_loss: 0.3072 - val_accuracy: 0.8750\n",
      "Epoch 140/300\n",
      "12/12 [==============================] - 0s 3ms/step - loss: 0.1472 - accuracy: 0.9479 - val_loss: 0.3252 - val_accuracy: 0.8750\n",
      "Epoch 141/300\n",
      "12/12 [==============================] - 0s 3ms/step - loss: 0.1495 - accuracy: 0.9479 - val_loss: 0.3138 - val_accuracy: 0.8750\n",
      "Epoch 142/300\n",
      "12/12 [==============================] - 0s 3ms/step - loss: 0.1456 - accuracy: 0.9479 - val_loss: 0.3057 - val_accuracy: 0.8750\n",
      "Epoch 143/300\n",
      "12/12 [==============================] - 0s 3ms/step - loss: 0.1457 - accuracy: 0.9479 - val_loss: 0.3018 - val_accuracy: 0.8750\n",
      "Epoch 144/300\n",
      "12/12 [==============================] - 0s 3ms/step - loss: 0.1456 - accuracy: 0.9479 - val_loss: 0.2943 - val_accuracy: 0.8750\n",
      "Epoch 145/300\n",
      "12/12 [==============================] - 0s 3ms/step - loss: 0.1450 - accuracy: 0.9479 - val_loss: 0.3001 - val_accuracy: 0.8750\n",
      "Epoch 146/300\n",
      "12/12 [==============================] - 0s 3ms/step - loss: 0.1444 - accuracy: 0.9479 - val_loss: 0.3077 - val_accuracy: 0.8750\n",
      "Epoch 147/300\n",
      "12/12 [==============================] - 0s 3ms/step - loss: 0.1444 - accuracy: 0.9479 - val_loss: 0.3080 - val_accuracy: 0.8750\n",
      "Epoch 148/300\n",
      "12/12 [==============================] - 0s 3ms/step - loss: 0.1462 - accuracy: 0.9479 - val_loss: 0.2932 - val_accuracy: 0.8958\n",
      "Epoch 149/300\n",
      "12/12 [==============================] - 0s 3ms/step - loss: 0.1455 - accuracy: 0.9479 - val_loss: 0.2733 - val_accuracy: 0.8958\n",
      "Epoch 150/300\n",
      "12/12 [==============================] - 0s 3ms/step - loss: 0.1457 - accuracy: 0.9479 - val_loss: 0.3257 - val_accuracy: 0.8542\n",
      "Epoch 151/300\n",
      "12/12 [==============================] - 0s 3ms/step - loss: 0.1435 - accuracy: 0.9479 - val_loss: 0.2880 - val_accuracy: 0.8958\n",
      "Epoch 152/300\n",
      "12/12 [==============================] - 0s 3ms/step - loss: 0.1465 - accuracy: 0.9375 - val_loss: 0.2722 - val_accuracy: 0.8958\n",
      "Epoch 153/300\n",
      "12/12 [==============================] - 0s 3ms/step - loss: 0.1431 - accuracy: 0.9479 - val_loss: 0.3107 - val_accuracy: 0.8750\n",
      "Epoch 154/300\n",
      "12/12 [==============================] - 0s 3ms/step - loss: 0.1439 - accuracy: 0.9479 - val_loss: 0.3123 - val_accuracy: 0.8750\n",
      "Epoch 155/300\n",
      "12/12 [==============================] - 0s 3ms/step - loss: 0.1428 - accuracy: 0.9479 - val_loss: 0.2939 - val_accuracy: 0.8958\n",
      "Epoch 156/300\n",
      "12/12 [==============================] - 0s 3ms/step - loss: 0.1455 - accuracy: 0.9479 - val_loss: 0.2528 - val_accuracy: 0.8958\n",
      "Epoch 157/300\n",
      "12/12 [==============================] - 0s 3ms/step - loss: 0.1411 - accuracy: 0.9479 - val_loss: 0.3001 - val_accuracy: 0.8750\n",
      "Epoch 158/300\n",
      "12/12 [==============================] - 0s 3ms/step - loss: 0.1425 - accuracy: 0.9479 - val_loss: 0.3118 - val_accuracy: 0.8750\n",
      "Epoch 159/300\n",
      "12/12 [==============================] - 0s 3ms/step - loss: 0.1419 - accuracy: 0.9479 - val_loss: 0.2879 - val_accuracy: 0.8958\n",
      "Epoch 160/300\n",
      "12/12 [==============================] - 0s 3ms/step - loss: 0.1413 - accuracy: 0.9375 - val_loss: 0.2776 - val_accuracy: 0.8958\n",
      "Epoch 161/300\n",
      "12/12 [==============================] - 0s 3ms/step - loss: 0.1403 - accuracy: 0.9479 - val_loss: 0.2934 - val_accuracy: 0.8958\n",
      "Epoch 162/300\n",
      "12/12 [==============================] - 0s 3ms/step - loss: 0.1414 - accuracy: 0.9479 - val_loss: 0.2740 - val_accuracy: 0.8958\n",
      "Epoch 163/300\n",
      "12/12 [==============================] - 0s 3ms/step - loss: 0.1407 - accuracy: 0.9479 - val_loss: 0.3072 - val_accuracy: 0.8750\n",
      "Epoch 164/300\n",
      "12/12 [==============================] - 0s 3ms/step - loss: 0.1400 - accuracy: 0.9479 - val_loss: 0.3102 - val_accuracy: 0.8750\n",
      "Epoch 165/300\n",
      "12/12 [==============================] - 0s 3ms/step - loss: 0.1395 - accuracy: 0.9479 - val_loss: 0.2804 - val_accuracy: 0.8958\n",
      "Epoch 166/300\n",
      "12/12 [==============================] - 0s 3ms/step - loss: 0.1404 - accuracy: 0.9479 - val_loss: 0.2855 - val_accuracy: 0.8958\n",
      "Epoch 167/300\n",
      "12/12 [==============================] - 0s 3ms/step - loss: 0.1391 - accuracy: 0.9479 - val_loss: 0.2853 - val_accuracy: 0.8958\n",
      "Epoch 168/300\n",
      "12/12 [==============================] - 0s 3ms/step - loss: 0.1413 - accuracy: 0.9427 - val_loss: 0.2600 - val_accuracy: 0.8958\n",
      "Epoch 169/300\n",
      "12/12 [==============================] - 0s 3ms/step - loss: 0.1387 - accuracy: 0.9479 - val_loss: 0.2800 - val_accuracy: 0.8958\n",
      "Epoch 170/300\n",
      "12/12 [==============================] - 0s 3ms/step - loss: 0.1384 - accuracy: 0.9479 - val_loss: 0.3050 - val_accuracy: 0.8542\n",
      "Epoch 171/300\n",
      "12/12 [==============================] - 0s 3ms/step - loss: 0.1413 - accuracy: 0.9479 - val_loss: 0.2781 - val_accuracy: 0.8958\n",
      "Epoch 172/300\n",
      "12/12 [==============================] - 0s 3ms/step - loss: 0.1393 - accuracy: 0.9479 - val_loss: 0.3135 - val_accuracy: 0.8542\n",
      "Epoch 173/300\n",
      "12/12 [==============================] - 0s 3ms/step - loss: 0.1393 - accuracy: 0.9479 - val_loss: 0.2879 - val_accuracy: 0.8958\n",
      "Epoch 174/300\n",
      "12/12 [==============================] - 0s 4ms/step - loss: 0.1392 - accuracy: 0.9479 - val_loss: 0.2517 - val_accuracy: 0.9167\n",
      "Epoch 175/300\n",
      "12/12 [==============================] - 0s 3ms/step - loss: 0.1400 - accuracy: 0.9479 - val_loss: 0.2940 - val_accuracy: 0.8958\n",
      "Epoch 176/300\n",
      "12/12 [==============================] - 0s 3ms/step - loss: 0.1369 - accuracy: 0.9479 - val_loss: 0.2821 - val_accuracy: 0.8958\n",
      "Epoch 177/300\n",
      "12/12 [==============================] - 0s 4ms/step - loss: 0.1379 - accuracy: 0.9479 - val_loss: 0.2910 - val_accuracy: 0.8958\n",
      "Epoch 178/300\n",
      "12/12 [==============================] - 0s 3ms/step - loss: 0.1368 - accuracy: 0.9479 - val_loss: 0.2717 - val_accuracy: 0.8958\n",
      "Epoch 179/300\n",
      "12/12 [==============================] - 0s 3ms/step - loss: 0.1404 - accuracy: 0.9479 - val_loss: 0.3149 - val_accuracy: 0.8542\n",
      "Epoch 180/300\n",
      "12/12 [==============================] - 0s 3ms/step - loss: 0.1358 - accuracy: 0.9479 - val_loss: 0.2702 - val_accuracy: 0.8958\n",
      "Epoch 181/300\n",
      "12/12 [==============================] - 0s 3ms/step - loss: 0.1389 - accuracy: 0.9375 - val_loss: 0.2415 - val_accuracy: 0.9167\n",
      "Epoch 182/300\n",
      "12/12 [==============================] - 0s 3ms/step - loss: 0.1371 - accuracy: 0.9427 - val_loss: 0.3104 - val_accuracy: 0.8542\n",
      "Epoch 183/300\n",
      "12/12 [==============================] - 0s 3ms/step - loss: 0.1390 - accuracy: 0.9479 - val_loss: 0.3187 - val_accuracy: 0.8542\n",
      "Epoch 184/300\n",
      "12/12 [==============================] - 0s 3ms/step - loss: 0.1371 - accuracy: 0.9479 - val_loss: 0.2675 - val_accuracy: 0.9167\n",
      "Epoch 185/300\n",
      "12/12 [==============================] - 0s 3ms/step - loss: 0.1365 - accuracy: 0.9427 - val_loss: 0.2792 - val_accuracy: 0.8958\n",
      "Epoch 186/300\n",
      "12/12 [==============================] - 0s 3ms/step - loss: 0.1363 - accuracy: 0.9479 - val_loss: 0.2758 - val_accuracy: 0.8958\n",
      "Epoch 187/300\n",
      "12/12 [==============================] - 0s 3ms/step - loss: 0.1383 - accuracy: 0.9479 - val_loss: 0.3129 - val_accuracy: 0.8542\n",
      "Epoch 188/300\n",
      "12/12 [==============================] - 0s 3ms/step - loss: 0.1350 - accuracy: 0.9479 - val_loss: 0.2653 - val_accuracy: 0.9167\n",
      "Epoch 189/300\n",
      "12/12 [==============================] - 0s 3ms/step - loss: 0.1364 - accuracy: 0.9479 - val_loss: 0.2526 - val_accuracy: 0.9167\n",
      "Epoch 190/300\n",
      "12/12 [==============================] - 0s 3ms/step - loss: 0.1360 - accuracy: 0.9479 - val_loss: 0.2677 - val_accuracy: 0.9167\n",
      "Epoch 191/300\n",
      "12/12 [==============================] - 0s 3ms/step - loss: 0.1355 - accuracy: 0.9479 - val_loss: 0.2790 - val_accuracy: 0.8958\n",
      "Epoch 192/300\n",
      "12/12 [==============================] - 0s 3ms/step - loss: 0.1368 - accuracy: 0.9479 - val_loss: 0.3036 - val_accuracy: 0.8750\n",
      "Epoch 193/300\n",
      "12/12 [==============================] - 0s 3ms/step - loss: 0.1363 - accuracy: 0.9479 - val_loss: 0.2896 - val_accuracy: 0.8958\n",
      "Epoch 194/300\n",
      "12/12 [==============================] - 0s 3ms/step - loss: 0.1353 - accuracy: 0.9479 - val_loss: 0.2555 - val_accuracy: 0.9167\n",
      "Epoch 195/300\n",
      "12/12 [==============================] - 0s 3ms/step - loss: 0.1354 - accuracy: 0.9531 - val_loss: 0.2639 - val_accuracy: 0.9167\n",
      "Epoch 196/300\n",
      "12/12 [==============================] - 0s 3ms/step - loss: 0.1349 - accuracy: 0.9531 - val_loss: 0.2712 - val_accuracy: 0.9167\n",
      "Epoch 197/300\n",
      "12/12 [==============================] - 0s 3ms/step - loss: 0.1354 - accuracy: 0.9479 - val_loss: 0.3077 - val_accuracy: 0.8750\n",
      "Epoch 198/300\n",
      "12/12 [==============================] - 0s 3ms/step - loss: 0.1359 - accuracy: 0.9479 - val_loss: 0.2745 - val_accuracy: 0.9167\n",
      "Epoch 199/300\n",
      "12/12 [==============================] - 0s 3ms/step - loss: 0.1366 - accuracy: 0.9531 - val_loss: 0.2828 - val_accuracy: 0.9167\n",
      "Epoch 200/300\n",
      "12/12 [==============================] - 0s 3ms/step - loss: 0.1374 - accuracy: 0.9375 - val_loss: 0.2683 - val_accuracy: 0.9167\n",
      "Epoch 201/300\n",
      "12/12 [==============================] - 0s 3ms/step - loss: 0.1361 - accuracy: 0.9479 - val_loss: 0.3129 - val_accuracy: 0.8542\n",
      "Epoch 202/300\n",
      "12/12 [==============================] - 0s 3ms/step - loss: 0.1352 - accuracy: 0.9479 - val_loss: 0.2977 - val_accuracy: 0.8750\n",
      "Epoch 203/300\n",
      "12/12 [==============================] - 0s 3ms/step - loss: 0.1388 - accuracy: 0.9375 - val_loss: 0.2356 - val_accuracy: 0.9167\n",
      "Epoch 204/300\n",
      "12/12 [==============================] - 0s 3ms/step - loss: 0.1341 - accuracy: 0.9479 - val_loss: 0.2874 - val_accuracy: 0.8958\n",
      "Epoch 205/300\n",
      "12/12 [==============================] - 0s 3ms/step - loss: 0.1373 - accuracy: 0.9479 - val_loss: 0.3094 - val_accuracy: 0.8750\n",
      "Epoch 206/300\n",
      "12/12 [==============================] - 0s 3ms/step - loss: 0.1325 - accuracy: 0.9479 - val_loss: 0.2751 - val_accuracy: 0.9167\n",
      "Epoch 207/300\n",
      "12/12 [==============================] - 0s 3ms/step - loss: 0.1333 - accuracy: 0.9479 - val_loss: 0.2690 - val_accuracy: 0.9167\n",
      "Epoch 208/300\n",
      "12/12 [==============================] - 0s 3ms/step - loss: 0.1359 - accuracy: 0.9479 - val_loss: 0.2469 - val_accuracy: 0.9167\n",
      "Epoch 209/300\n",
      "12/12 [==============================] - 0s 3ms/step - loss: 0.1367 - accuracy: 0.9427 - val_loss: 0.3030 - val_accuracy: 0.8750\n",
      "Epoch 210/300\n",
      "12/12 [==============================] - 0s 3ms/step - loss: 0.1353 - accuracy: 0.9479 - val_loss: 0.3002 - val_accuracy: 0.8750\n",
      "Epoch 211/300\n",
      "12/12 [==============================] - 0s 3ms/step - loss: 0.1322 - accuracy: 0.9479 - val_loss: 0.2539 - val_accuracy: 0.9375\n",
      "Epoch 212/300\n",
      "12/12 [==============================] - 0s 3ms/step - loss: 0.1342 - accuracy: 0.9427 - val_loss: 0.2413 - val_accuracy: 0.9167\n",
      "Epoch 213/300\n",
      "12/12 [==============================] - 0s 4ms/step - loss: 0.1343 - accuracy: 0.9531 - val_loss: 0.2920 - val_accuracy: 0.8750\n",
      "Epoch 214/300\n",
      "12/12 [==============================] - 0s 3ms/step - loss: 0.1333 - accuracy: 0.9479 - val_loss: 0.2848 - val_accuracy: 0.9167\n",
      "Epoch 215/300\n",
      "12/12 [==============================] - 0s 3ms/step - loss: 0.1338 - accuracy: 0.9479 - val_loss: 0.2736 - val_accuracy: 0.9167\n",
      "Epoch 216/300\n",
      "12/12 [==============================] - 0s 3ms/step - loss: 0.1360 - accuracy: 0.9479 - val_loss: 0.2717 - val_accuracy: 0.9167\n",
      "Epoch 217/300\n",
      "12/12 [==============================] - 0s 3ms/step - loss: 0.1326 - accuracy: 0.9531 - val_loss: 0.2823 - val_accuracy: 0.8958\n",
      "Epoch 218/300\n",
      "12/12 [==============================] - 0s 3ms/step - loss: 0.1336 - accuracy: 0.9531 - val_loss: 0.2651 - val_accuracy: 0.9167\n",
      "Epoch 219/300\n",
      "12/12 [==============================] - 0s 3ms/step - loss: 0.1371 - accuracy: 0.9479 - val_loss: 0.3141 - val_accuracy: 0.8750\n",
      "Epoch 220/300\n",
      "12/12 [==============================] - 0s 3ms/step - loss: 0.1328 - accuracy: 0.9479 - val_loss: 0.2513 - val_accuracy: 0.9167\n",
      "Epoch 221/300\n",
      "12/12 [==============================] - 0s 3ms/step - loss: 0.1345 - accuracy: 0.9479 - val_loss: 0.2810 - val_accuracy: 0.8958\n",
      "Epoch 222/300\n",
      "12/12 [==============================] - 0s 3ms/step - loss: 0.1330 - accuracy: 0.9427 - val_loss: 0.2520 - val_accuracy: 0.9167\n",
      "Epoch 223/300\n",
      "12/12 [==============================] - 0s 3ms/step - loss: 0.1325 - accuracy: 0.9531 - val_loss: 0.2790 - val_accuracy: 0.9167\n",
      "Epoch 224/300\n",
      "12/12 [==============================] - 0s 3ms/step - loss: 0.1316 - accuracy: 0.9479 - val_loss: 0.2991 - val_accuracy: 0.8750\n",
      "Epoch 225/300\n",
      "12/12 [==============================] - 0s 3ms/step - loss: 0.1332 - accuracy: 0.9479 - val_loss: 0.2886 - val_accuracy: 0.8750\n",
      "Epoch 226/300\n",
      "12/12 [==============================] - 0s 3ms/step - loss: 0.1310 - accuracy: 0.9531 - val_loss: 0.2680 - val_accuracy: 0.9167\n",
      "Epoch 227/300\n",
      "12/12 [==============================] - 0s 3ms/step - loss: 0.1322 - accuracy: 0.9531 - val_loss: 0.2607 - val_accuracy: 0.9167\n",
      "Epoch 228/300\n",
      "12/12 [==============================] - 0s 3ms/step - loss: 0.1327 - accuracy: 0.9479 - val_loss: 0.2971 - val_accuracy: 0.8750\n",
      "Epoch 229/300\n",
      "12/12 [==============================] - 0s 3ms/step - loss: 0.1312 - accuracy: 0.9479 - val_loss: 0.2819 - val_accuracy: 0.8958\n",
      "Epoch 230/300\n"
     ]
    },
    {
     "name": "stdout",
     "output_type": "stream",
     "text": [
      "12/12 [==============================] - 0s 3ms/step - loss: 0.1314 - accuracy: 0.9479 - val_loss: 0.2729 - val_accuracy: 0.9167\n",
      "Epoch 231/300\n",
      "12/12 [==============================] - 0s 3ms/step - loss: 0.1317 - accuracy: 0.9531 - val_loss: 0.2630 - val_accuracy: 0.9167\n",
      "Epoch 232/300\n",
      "12/12 [==============================] - 0s 3ms/step - loss: 0.1329 - accuracy: 0.9531 - val_loss: 0.2724 - val_accuracy: 0.9167\n",
      "Epoch 233/300\n",
      "12/12 [==============================] - 0s 3ms/step - loss: 0.1327 - accuracy: 0.9531 - val_loss: 0.2923 - val_accuracy: 0.8958\n",
      "Epoch 234/300\n",
      "12/12 [==============================] - 0s 3ms/step - loss: 0.1338 - accuracy: 0.9531 - val_loss: 0.2681 - val_accuracy: 0.9375\n",
      "Epoch 235/300\n",
      "12/12 [==============================] - 0s 3ms/step - loss: 0.1326 - accuracy: 0.9479 - val_loss: 0.2867 - val_accuracy: 0.8958\n",
      "Epoch 236/300\n",
      "12/12 [==============================] - 0s 3ms/step - loss: 0.1306 - accuracy: 0.9479 - val_loss: 0.2604 - val_accuracy: 0.9167\n",
      "Epoch 237/300\n",
      "12/12 [==============================] - 0s 3ms/step - loss: 0.1317 - accuracy: 0.9531 - val_loss: 0.2602 - val_accuracy: 0.9167\n",
      "Epoch 238/300\n",
      "12/12 [==============================] - 0s 3ms/step - loss: 0.1316 - accuracy: 0.9531 - val_loss: 0.2634 - val_accuracy: 0.9375\n",
      "Epoch 239/300\n",
      "12/12 [==============================] - 0s 3ms/step - loss: 0.1358 - accuracy: 0.9479 - val_loss: 0.3174 - val_accuracy: 0.8750\n",
      "Epoch 240/300\n",
      "12/12 [==============================] - 0s 3ms/step - loss: 0.1314 - accuracy: 0.9479 - val_loss: 0.2554 - val_accuracy: 0.9167\n",
      "Epoch 241/300\n",
      "12/12 [==============================] - 0s 3ms/step - loss: 0.1308 - accuracy: 0.9531 - val_loss: 0.2558 - val_accuracy: 0.9167\n",
      "Epoch 242/300\n",
      "12/12 [==============================] - 0s 3ms/step - loss: 0.1305 - accuracy: 0.9531 - val_loss: 0.2662 - val_accuracy: 0.9167\n",
      "Epoch 243/300\n",
      "12/12 [==============================] - 0s 3ms/step - loss: 0.1301 - accuracy: 0.9479 - val_loss: 0.2976 - val_accuracy: 0.8750\n",
      "Epoch 244/300\n",
      "12/12 [==============================] - 0s 3ms/step - loss: 0.1338 - accuracy: 0.9531 - val_loss: 0.2598 - val_accuracy: 0.9375\n",
      "Epoch 245/300\n",
      "12/12 [==============================] - 0s 3ms/step - loss: 0.1352 - accuracy: 0.9479 - val_loss: 0.3086 - val_accuracy: 0.8750\n",
      "Epoch 246/300\n",
      "12/12 [==============================] - 0s 3ms/step - loss: 0.1305 - accuracy: 0.9479 - val_loss: 0.2786 - val_accuracy: 0.8958\n",
      "Epoch 247/300\n",
      "12/12 [==============================] - 0s 3ms/step - loss: 0.1311 - accuracy: 0.9531 - val_loss: 0.2354 - val_accuracy: 0.9375\n",
      "Epoch 248/300\n",
      "12/12 [==============================] - 0s 3ms/step - loss: 0.1314 - accuracy: 0.9479 - val_loss: 0.2755 - val_accuracy: 0.8958\n",
      "Epoch 249/300\n",
      "12/12 [==============================] - 0s 3ms/step - loss: 0.1319 - accuracy: 0.9479 - val_loss: 0.2646 - val_accuracy: 0.9375\n",
      "Epoch 250/300\n",
      "12/12 [==============================] - 0s 3ms/step - loss: 0.1318 - accuracy: 0.9531 - val_loss: 0.3040 - val_accuracy: 0.8958\n",
      "Epoch 251/300\n",
      "12/12 [==============================] - 0s 3ms/step - loss: 0.1303 - accuracy: 0.9531 - val_loss: 0.2826 - val_accuracy: 0.8958\n",
      "Epoch 252/300\n",
      "12/12 [==============================] - 0s 3ms/step - loss: 0.1315 - accuracy: 0.9531 - val_loss: 0.2536 - val_accuracy: 0.9167\n",
      "Epoch 253/300\n",
      "12/12 [==============================] - 0s 3ms/step - loss: 0.1294 - accuracy: 0.9479 - val_loss: 0.2696 - val_accuracy: 0.9167\n",
      "Epoch 254/300\n",
      "12/12 [==============================] - 0s 3ms/step - loss: 0.1315 - accuracy: 0.9479 - val_loss: 0.3051 - val_accuracy: 0.8750\n",
      "Epoch 255/300\n",
      "12/12 [==============================] - 0s 3ms/step - loss: 0.1291 - accuracy: 0.9479 - val_loss: 0.2707 - val_accuracy: 0.9167\n",
      "Epoch 256/300\n",
      "12/12 [==============================] - 0s 3ms/step - loss: 0.1293 - accuracy: 0.9531 - val_loss: 0.2549 - val_accuracy: 0.9375\n",
      "Epoch 257/300\n",
      "12/12 [==============================] - 0s 3ms/step - loss: 0.1319 - accuracy: 0.9583 - val_loss: 0.2668 - val_accuracy: 0.9167\n",
      "Epoch 258/300\n",
      "12/12 [==============================] - 0s 3ms/step - loss: 0.1299 - accuracy: 0.9531 - val_loss: 0.3028 - val_accuracy: 0.8958\n",
      "Epoch 259/300\n",
      "12/12 [==============================] - 0s 4ms/step - loss: 0.1322 - accuracy: 0.9531 - val_loss: 0.2722 - val_accuracy: 0.9167\n",
      "Epoch 260/300\n",
      "12/12 [==============================] - 0s 3ms/step - loss: 0.1348 - accuracy: 0.9479 - val_loss: 0.3113 - val_accuracy: 0.8750\n",
      "Epoch 261/300\n",
      "12/12 [==============================] - 0s 3ms/step - loss: 0.1372 - accuracy: 0.9375 - val_loss: 0.2342 - val_accuracy: 0.9375\n",
      "Epoch 262/300\n",
      "12/12 [==============================] - 0s 3ms/step - loss: 0.1360 - accuracy: 0.9479 - val_loss: 0.3134 - val_accuracy: 0.8750\n",
      "Epoch 263/300\n",
      "12/12 [==============================] - 0s 3ms/step - loss: 0.1325 - accuracy: 0.9531 - val_loss: 0.2485 - val_accuracy: 0.9167\n",
      "Epoch 264/300\n",
      "12/12 [==============================] - 0s 3ms/step - loss: 0.1301 - accuracy: 0.9479 - val_loss: 0.2728 - val_accuracy: 0.8958\n",
      "Epoch 265/300\n",
      "12/12 [==============================] - 0s 3ms/step - loss: 0.1312 - accuracy: 0.9479 - val_loss: 0.2794 - val_accuracy: 0.8958\n",
      "Epoch 266/300\n",
      "12/12 [==============================] - 0s 3ms/step - loss: 0.1284 - accuracy: 0.9531 - val_loss: 0.2802 - val_accuracy: 0.8958\n",
      "Epoch 267/300\n",
      "12/12 [==============================] - 0s 3ms/step - loss: 0.1305 - accuracy: 0.9479 - val_loss: 0.2523 - val_accuracy: 0.9375\n",
      "Epoch 268/300\n",
      "12/12 [==============================] - 0s 3ms/step - loss: 0.1309 - accuracy: 0.9427 - val_loss: 0.2662 - val_accuracy: 0.9375\n",
      "Epoch 269/300\n",
      "12/12 [==============================] - 0s 3ms/step - loss: 0.1314 - accuracy: 0.9479 - val_loss: 0.3161 - val_accuracy: 0.8750\n",
      "Epoch 270/300\n",
      "12/12 [==============================] - 0s 3ms/step - loss: 0.1288 - accuracy: 0.9479 - val_loss: 0.2876 - val_accuracy: 0.8958\n",
      "Epoch 271/300\n",
      "12/12 [==============================] - 0s 3ms/step - loss: 0.1296 - accuracy: 0.9531 - val_loss: 0.2469 - val_accuracy: 0.9375\n",
      "Epoch 272/300\n",
      "12/12 [==============================] - 0s 3ms/step - loss: 0.1310 - accuracy: 0.9583 - val_loss: 0.2917 - val_accuracy: 0.8958\n",
      "Epoch 273/300\n",
      "12/12 [==============================] - 0s 3ms/step - loss: 0.1288 - accuracy: 0.9583 - val_loss: 0.2793 - val_accuracy: 0.8958\n",
      "Epoch 274/300\n",
      "12/12 [==============================] - 0s 3ms/step - loss: 0.1286 - accuracy: 0.9531 - val_loss: 0.2797 - val_accuracy: 0.9167\n",
      "Epoch 275/300\n",
      "12/12 [==============================] - 0s 3ms/step - loss: 0.1287 - accuracy: 0.9531 - val_loss: 0.2555 - val_accuracy: 0.9375\n",
      "Epoch 276/300\n",
      "12/12 [==============================] - 0s 3ms/step - loss: 0.1298 - accuracy: 0.9531 - val_loss: 0.2692 - val_accuracy: 0.9167\n",
      "Epoch 277/300\n",
      "12/12 [==============================] - 0s 3ms/step - loss: 0.1291 - accuracy: 0.9531 - val_loss: 0.2842 - val_accuracy: 0.8958\n",
      "Epoch 278/300\n",
      "12/12 [==============================] - 0s 3ms/step - loss: 0.1312 - accuracy: 0.9531 - val_loss: 0.2599 - val_accuracy: 0.9167\n",
      "Epoch 279/300\n",
      "12/12 [==============================] - 0s 3ms/step - loss: 0.1283 - accuracy: 0.9531 - val_loss: 0.2881 - val_accuracy: 0.8958\n",
      "Epoch 280/300\n",
      "12/12 [==============================] - 0s 3ms/step - loss: 0.1281 - accuracy: 0.9531 - val_loss: 0.2852 - val_accuracy: 0.8958\n",
      "Epoch 281/300\n",
      "12/12 [==============================] - 0s 3ms/step - loss: 0.1286 - accuracy: 0.9531 - val_loss: 0.2771 - val_accuracy: 0.8958\n",
      "Epoch 282/300\n",
      "12/12 [==============================] - 0s 3ms/step - loss: 0.1281 - accuracy: 0.9531 - val_loss: 0.2858 - val_accuracy: 0.8958\n",
      "Epoch 283/300\n",
      "12/12 [==============================] - 0s 3ms/step - loss: 0.1285 - accuracy: 0.9531 - val_loss: 0.2699 - val_accuracy: 0.8958\n",
      "Epoch 284/300\n",
      "12/12 [==============================] - 0s 3ms/step - loss: 0.1302 - accuracy: 0.9531 - val_loss: 0.2594 - val_accuracy: 0.9375\n",
      "Epoch 285/300\n",
      "12/12 [==============================] - 0s 3ms/step - loss: 0.1285 - accuracy: 0.9531 - val_loss: 0.2849 - val_accuracy: 0.9167\n",
      "Epoch 286/300\n",
      "12/12 [==============================] - 0s 3ms/step - loss: 0.1291 - accuracy: 0.9531 - val_loss: 0.3012 - val_accuracy: 0.8958\n",
      "Epoch 287/300\n",
      "12/12 [==============================] - 0s 3ms/step - loss: 0.1307 - accuracy: 0.9531 - val_loss: 0.2647 - val_accuracy: 0.9167\n",
      "Epoch 288/300\n",
      "12/12 [==============================] - 0s 3ms/step - loss: 0.1286 - accuracy: 0.9531 - val_loss: 0.2583 - val_accuracy: 0.9375\n",
      "Epoch 289/300\n",
      "12/12 [==============================] - 0s 3ms/step - loss: 0.1286 - accuracy: 0.9479 - val_loss: 0.3037 - val_accuracy: 0.8958\n",
      "Epoch 290/300\n",
      "12/12 [==============================] - 0s 3ms/step - loss: 0.1283 - accuracy: 0.9531 - val_loss: 0.2897 - val_accuracy: 0.8958\n",
      "Epoch 291/300\n",
      "12/12 [==============================] - 0s 3ms/step - loss: 0.1283 - accuracy: 0.9479 - val_loss: 0.2499 - val_accuracy: 0.9375\n",
      "Epoch 292/300\n",
      "12/12 [==============================] - 0s 3ms/step - loss: 0.1296 - accuracy: 0.9531 - val_loss: 0.2873 - val_accuracy: 0.8958\n",
      "Epoch 293/300\n",
      "12/12 [==============================] - 0s 3ms/step - loss: 0.1290 - accuracy: 0.9531 - val_loss: 0.2739 - val_accuracy: 0.8958\n",
      "Epoch 294/300\n",
      "12/12 [==============================] - 0s 3ms/step - loss: 0.1281 - accuracy: 0.9531 - val_loss: 0.2753 - val_accuracy: 0.9167\n",
      "Epoch 295/300\n",
      "12/12 [==============================] - 0s 3ms/step - loss: 0.1281 - accuracy: 0.9531 - val_loss: 0.2898 - val_accuracy: 0.8958\n",
      "Epoch 296/300\n",
      "12/12 [==============================] - 0s 3ms/step - loss: 0.1292 - accuracy: 0.9531 - val_loss: 0.2804 - val_accuracy: 0.9167\n",
      "Epoch 297/300\n",
      "12/12 [==============================] - 0s 3ms/step - loss: 0.1270 - accuracy: 0.9531 - val_loss: 0.2704 - val_accuracy: 0.9167\n",
      "Epoch 298/300\n",
      "12/12 [==============================] - 0s 3ms/step - loss: 0.1283 - accuracy: 0.9583 - val_loss: 0.2647 - val_accuracy: 0.9167\n",
      "Epoch 299/300\n",
      "12/12 [==============================] - 0s 3ms/step - loss: 0.1307 - accuracy: 0.9531 - val_loss: 0.2660 - val_accuracy: 0.9167\n",
      "Epoch 300/300\n",
      "12/12 [==============================] - 0s 3ms/step - loss: 0.1277 - accuracy: 0.9531 - val_loss: 0.2602 - val_accuracy: 0.9375\n"
     ]
    }
   ],
   "source": [
    "# 모델 학습(fit) 실시\n",
    "history = model.fit(mm_x_train, o_y_train, epochs = 300, batch_size = 16, validation_split = 0.2)"
   ]
  },
  {
   "cell_type": "code",
   "execution_count": 20,
   "metadata": {},
   "outputs": [
    {
     "data": {
      "image/png": "[encoded data removed]",
      "text/plain": [
       "<Figure size 1152x360 with 2 Axes>"
      ]
     },
     "metadata": {
      "needs_background": "light"
     },
     "output_type": "display_data"
    }
   ],
   "source": [
    "# 학습 결과 그래프 표시\n",
    "plt.figure(figsize = (16,5))\n",
    "plt.subplot(1,2,1) # 그래프 좌측 표시\n",
    "plt.xlabel('Epoch')\n",
    "plt.ylabel('Loss')\n",
    "plt.plot(history.history['loss'], label = 'Train Loss')\n",
    "plt.plot(history.history['val_loss'], label = 'Val Loss')\n",
    "plt.legend()\n",
    "plt.subplot(1,2,2) # 그래프 우측 표시\n",
    "plt.xlabel('Epoch')\n",
    "plt.ylabel('Accuracy')\n",
    "plt.plot(history.history['accuracy'], label = 'Train Accuracy')\n",
    "plt.plot(history.history['val_accuracy'], label = 'Val Accuracy')\n",
    "plt.legend()\n",
    "plt.show()"
   ]
  },
  {
   "cell_type": "code",
   "execution_count": 21,
   "metadata": {},
   "outputs": [
    {
     "name": "stdout",
     "output_type": "stream",
     "text": [
      "8/8 [==============================] - 0s 2ms/step - loss: 0.1533 - accuracy: 0.9500\n"
     ]
    },
    {
     "data": {
      "text/plain": [
       "[0.15334415435791016, 0.949999988079071]"
      ]
     },
     "execution_count": 21,
     "metadata": {},
     "output_type": "execute_result"
    }
   ],
   "source": [
    "# 모델 훈련성능(loss, accuracy) 확인\n",
    "model.evaluate(mm_x_train, o_y_train)"
   ]
  },
  {
   "cell_type": "code",
   "execution_count": 45,
   "metadata": {
    "scrolled": true
   },
   "outputs": [
    {
     "name": "stdout",
     "output_type": "stream",
     "text": [
      "2/2 [==============================] - 0s 4ms/step - loss: 0.2718 - accuracy: 0.9333\n"
     ]
    },
    {
     "data": {
      "text/plain": [
       "[0.2718329131603241, 0.9333333373069763]"
      ]
     },
     "execution_count": 45,
     "metadata": {},
     "output_type": "execute_result"
    }
   ],
   "source": [
    "# 모델 테스트성능(loss, accuracy) 확인\n",
    "model.evaluate(mm_x_test, o_y_test)"
   ]
  },
  {
   "cell_type": "code",
   "execution_count": 48,
   "metadata": {},
   "outputs": [],
   "source": [
    "# 테스트용 데이터셋 활용 예측값 생성\n",
    "y_pred = model.predict(mm_x_test)"
   ]
  },
  {
   "cell_type": "code",
   "execution_count": 49,
   "metadata": {},
   "outputs": [
    {
     "data": {
      "text/plain": [
       "array([[9.9719489e-01, 1.6847164e-04, 2.6366785e-03],\n",
       "       [9.9991083e-01, 3.7987818e-05, 5.1129409e-05],\n",
       "       [9.9976295e-01, 1.2653900e-04, 1.1047870e-04],\n",
       "       [9.9964440e-01, 1.9506643e-04, 1.6054725e-04],\n",
       "       [9.9986064e-01, 7.6530843e-05, 6.2835170e-05]], dtype=float32)"
      ]
     },
     "execution_count": 49,
     "metadata": {},
     "output_type": "execute_result"
    }
   ],
   "source": [
    "# 예측값 확인\n",
    "y_pred[0:5]"
   ]
  },
  {
   "cell_type": "code",
   "execution_count": 50,
   "metadata": {},
   "outputs": [],
   "source": [
    "# 예측값 반올림\n",
    "y_pred = y_pred.round()"
   ]
  },
  {
   "cell_type": "code",
   "execution_count": 51,
   "metadata": {
    "scrolled": true
   },
   "outputs": [
    {
     "data": {
      "text/plain": [
       "array([[1., 0., 0.],\n",
       "       [1., 0., 0.],\n",
       "       [1., 0., 0.],\n",
       "       [1., 0., 0.],\n",
       "       [1., 0., 0.]], dtype=float32)"
      ]
     },
     "execution_count": 51,
     "metadata": {},
     "output_type": "execute_result"
    }
   ],
   "source": [
    "# 예측값 확인\n",
    "y_pred[0:5]"
   ]
  },
  {
   "cell_type": "code",
   "execution_count": 52,
   "metadata": {},
   "outputs": [],
   "source": [
    "import numpy as np\n",
    "# 배열에서 열 기준 가장 큰 값의 인덱스 호출 및 배열 차원 축소\n",
    "y_pred = np.argmax(y_pred, axis=1).reshape(-1)"
   ]
  },
  {
   "cell_type": "code",
   "execution_count": 53,
   "metadata": {},
   "outputs": [
    {
     "data": {
      "text/plain": [
       "array([0, 0, 0, 0, 0, 0, 0, 0, 0, 0, 0, 0, 0, 0, 0, 0, 0, 0, 0, 0, 1, 1,\n",
       "       1, 1, 1, 1, 1, 1, 2, 1, 1, 1, 1, 2, 1, 1, 1, 1, 1, 0, 2, 2, 2, 2,\n",
       "       2, 2, 2, 2, 2, 2, 2, 1, 2, 2, 2, 2, 2, 2, 2, 2], dtype=int64)"
      ]
     },
     "execution_count": 53,
     "metadata": {},
     "output_type": "execute_result"
    }
   ],
   "source": [
    "# 변환된 예측값 확인\n",
    "y_pred"
   ]
  },
  {
   "cell_type": "code",
   "execution_count": 56,
   "metadata": {},
   "outputs": [],
   "source": [
    "# 예측값 배열의 0을 a로, 1을 b로, 2를 c로 변경\n",
    "condlist = [y_pred == 0, y_pred == 1, y_pred == 2]\n",
    "choicelist = ['a', 'b', 'c']\n",
    "y_pred = np.select(condlist, choicelist)"
   ]
  },
  {
   "cell_type": "code",
   "execution_count": 57,
   "metadata": {},
   "outputs": [
    {
     "name": "stdout",
     "output_type": "stream",
     "text": [
      "['a' 'a' 'a' 'a' 'a'] ['a' 'a' 'a' 'a' 'a']\n"
     ]
    }
   ],
   "source": [
    "# 변환된 예측값과 실제값 확인\n",
    "print(y_pred[0:5], y_test[0:5])"
   ]
  },
  {
   "cell_type": "code",
   "execution_count": 32,
   "metadata": {},
   "outputs": [
    {
     "data": {
      "text/plain": [
       "array([[20,  0,  0],\n",
       "       [ 1, 17,  2],\n",
       "       [ 0,  1, 19]], dtype=int64)"
      ]
     },
     "execution_count": 32,
     "metadata": {},
     "output_type": "execute_result"
    }
   ],
   "source": [
    "from sklearn.metrics import confusion_matrix\n",
    "# 위쪽이 예측값, 좌측이 실제값\n",
    "confusion_matrix(y_test, y_pred)"
   ]
  },
  {
   "cell_type": "code",
   "execution_count": 33,
   "metadata": {},
   "outputs": [
    {
     "name": "stdout",
     "output_type": "stream",
     "text": [
      "              precision    recall  f1-score   support\n",
      "\n",
      "           a       0.95      1.00      0.98        20\n",
      "           b       0.94      0.85      0.89        20\n",
      "           c       0.90      0.95      0.93        20\n",
      "\n",
      "    accuracy                           0.93        60\n",
      "   macro avg       0.93      0.93      0.93        60\n",
      "weighted avg       0.93      0.93      0.93        60\n",
      "\n"
     ]
    }
   ],
   "source": [
    "from sklearn.metrics import classification_report\n",
    "print(classification_report(y_test, y_pred))"
   ]
  },
  {
   "cell_type": "markdown",
   "metadata": {},
   "source": [
    "### 2-2. 과적합을 줄이는 방법(드롭아웃)"
   ]
  },
  {
   "cell_type": "code",
   "execution_count": 34,
   "metadata": {},
   "outputs": [],
   "source": [
    "from keras.layers import Dropout"
   ]
  },
  {
   "cell_type": "code",
   "execution_count": 35,
   "metadata": {},
   "outputs": [],
   "source": [
    "# 모델 구축\n",
    "model_d = Sequential()\n",
    "model_d.add(Input(3))\n",
    "model_d.add(Dense(16, activation = 'relu'))\n",
    "model_d.add(Dropout(0.4))\n",
    "model_d.add(Dense(16, activation = 'relu'))\n",
    "model_d.add(Dropout(0.4))\n",
    "model_d.add(Dense(3, activation = 'softmax'))"
   ]
  },
  {
   "cell_type": "code",
   "execution_count": 36,
   "metadata": {},
   "outputs": [
    {
     "name": "stdout",
     "output_type": "stream",
     "text": [
      "Model: \"sequential_1\"\n",
      "_________________________________________________________________\n",
      " Layer (type)                Output Shape              Param #   \n",
      "=================================================================\n",
      " dense_3 (Dense)             (None, 16)                64        \n",
      "                                                                 \n",
      " dropout (Dropout)           (None, 16)                0         \n",
      "                                                                 \n",
      " dense_4 (Dense)             (None, 16)                272       \n",
      "                                                                 \n",
      " dropout_1 (Dropout)         (None, 16)                0         \n",
      "                                                                 \n",
      " dense_5 (Dense)             (None, 3)                 51        \n",
      "                                                                 \n",
      "=================================================================\n",
      "Total params: 387\n",
      "Trainable params: 387\n",
      "Non-trainable params: 0\n",
      "_________________________________________________________________\n"
     ]
    }
   ],
   "source": [
    "model_d.summary()"
   ]
  }
 ],
 "metadata": {
  "kernelspec": {
   "display_name": "Python 3",
   "language": "python",
   "name": "python3"
  },
  "language_info": {
   "codemirror_mode": {
    "name": "ipython",
    "version": 3
   },
   "file_extension": ".py",
   "mimetype": "text/x-python",
   "name": "python",
   "nbconvert_exporter": "python",
   "pygments_lexer": "ipython3",
   "version": "3.8.5"
  }
 },
 "nbformat": 4,
 "nbformat_minor": 4
}
